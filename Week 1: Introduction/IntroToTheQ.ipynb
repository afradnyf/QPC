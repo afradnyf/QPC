{
  "nbformat": 4,
  "nbformat_minor": 0,
  "metadata": {
    "colab": {
      "name": "IntroToTheQ.ipynb",
      "provenance": [],
      "collapsed_sections": []
    },
    "kernelspec": {
      "name": "python3",
      "display_name": "Python 3"
    },
    "language_info": {
      "name": "python"
    }
  },
  "cells": [
    {
      "cell_type": "markdown",
      "metadata": {
        "id": "FrsYxAaVxHHv"
      },
      "source": [
        "# Introduction to TheQ"
      ]
    },
    {
      "cell_type": "markdown",
      "metadata": {
        "id": "fIdXZ4VmxLvm"
      },
      "source": [
        "This notebook will teach you how to run quantum circuits remotely on TheQ."
      ]
    },
    {
      "cell_type": "markdown",
      "metadata": {
        "id": "7uVq0D1jx01_"
      },
      "source": [
        "# Importing Packages"
      ]
    },
    {
      "cell_type": "code",
      "metadata": {
        "id": "OwG8oQ5lwdKb"
      },
      "source": [
        "# Server addresses should be stable, but may occasionally be offline\n",
        "import requests\n",
        "import json\n",
        "import math\n",
        "from google.colab import files\n",
        "import numpy as np\n",
        "req_str = 'http://187c37408942.ngrok.io/qsim/perform_operation'\n",
        "req_str_qasm = 'http://187c37408942.ngrok.io/qsim/qasm'"
      ],
      "execution_count": 8,
      "outputs": []
    },
    {
      "cell_type": "markdown",
      "metadata": {
        "id": "Y4ut9wlOyJOt"
      },
      "source": [
        "# Required Functions"
      ]
    },
    {
      "cell_type": "code",
      "metadata": {
        "id": "fR1f-fxIyLAK"
      },
      "source": [
        "# Define Create ciruit (these are the four core definitions for any circuit)\n",
        "# all circuits must be bookmarked by the create_circuit and destroy_circuit command\n",
        "\n",
        "# Initial_state is a binary integer to initalise all qubit, \n",
        "# most often initial_state=0.\n",
        "def create_circuit(qubits,initial_state):\n",
        "    data = {\n",
        "        'operation': 'create_circuit',\n",
        "        'num_qubits': qubits\n",
        "    }\n",
        "    result = requests.post(req_str, json=data)\n",
        "    json_obj = json.loads(result.content)\n",
        "    reg_id = json_obj['result']\n",
        "\n",
        "    data = {\n",
        "        'operation': 'set_state',\n",
        "        'register': reg_id,\n",
        "        'state': initial_state,\n",
        "        'complex_value': {'re': 1, 'im': 0}\n",
        "    }\n",
        "    result = requests.post(req_str, json=data)\n",
        "    return reg_id\n",
        "\n",
        "# Gates.  gate_name and params are specified from the list above\n",
        "def gate(register_id, gate_name, params):\n",
        "    data = {\n",
        "        'operation': 'gate',\n",
        "        'register': register_id,\n",
        "        'gate': gate_name\n",
        "    }\n",
        "    for k in params.keys():\n",
        "        data[k] = params[k]\n",
        "    result = requests.post(req_str, json=data)\n",
        "    json_obj=json.loads(result.content)\n",
        "    return json_obj['result']\n",
        "\n",
        "# params contain an array of qubit numbers to measure, 'lq2m': [0,1,3] would measure qubits 0, 1 and 3 and return the \n",
        "# corresponding 3-bit integer value from 0 to 7.\n",
        "def measure_qubit(register_id, params):\n",
        "    data = {\n",
        "        'operation': 'measure', \n",
        "        'register': register_id,\n",
        "    }\n",
        "    for k in params.keys():\n",
        "        data[k] = params[k]\n",
        "    result = requests.post(req_str, json=data)\n",
        "\n",
        "    json_obj = json.loads(result.content)\n",
        "    return json_obj['result']\n",
        "\n",
        "# Always call destroy_circuit to terminate simulation (turn off your QC)\n",
        "def destroy_circuit(register_id):\n",
        "  data = {\n",
        "        'operation': 'destroy_circuit', \n",
        "        'register': register_id\n",
        "  }\n",
        "  result = requests.post(req_str, json=data)\n",
        "\n",
        "# Print allows you to output the current computational state of the machine.\n",
        "def print_vector(register_id):\n",
        "  data = {\n",
        "        'operation': 'state_vector', \n",
        "        'register': register_id\n",
        "  }\n",
        "  result = requests.post(req_str, json=data)\n",
        "  json_obj = json.loads(result.content)\n",
        "  return json_obj['result']\n"
      ],
      "execution_count": 3,
      "outputs": []
    },
    {
      "cell_type": "markdown",
      "metadata": {
        "id": "szq4JENK0tn8"
      },
      "source": [
        "# Creating circuits"
      ]
    },
    {
      "cell_type": "markdown",
      "metadata": {
        "id": "l4I6Gs840wsx"
      },
      "source": [
        "How to simulate quantum circuits in TheQ"
      ]
    },
    {
      "cell_type": "markdown",
      "metadata": {
        "id": "AIdugqpE010X"
      },
      "source": [
        "## Step 1: Initialize circuit"
      ]
    },
    {
      "cell_type": "code",
      "metadata": {
        "id": "Fsc_FFMh0uiT"
      },
      "source": [
        "# Initialize the circuit\n",
        "reg_id = create_circuit(2,0)"
      ],
      "execution_count": 13,
      "outputs": []
    },
    {
      "cell_type": "markdown",
      "metadata": {
        "id": "yqQdEIrR1DAJ"
      },
      "source": [
        "## Step 2: Apply gates"
      ]
    },
    {
      "cell_type": "code",
      "metadata": {
        "colab": {
          "base_uri": "https://localhost:8080/"
        },
        "id": "4S4MSG3e1FXi",
        "outputId": "ce5ae08e-d7a8-465d-b3d3-4c3cc5f3eb3c"
      },
      "source": [
        "# X gate\n",
        "gate(reg_id, 'X', {'q': 0})"
      ],
      "execution_count": 14,
      "outputs": [
        {
          "output_type": "execute_result",
          "data": {
            "text/plain": [
              "True"
            ]
          },
          "metadata": {
            "tags": []
          },
          "execution_count": 14
        }
      ]
    },
    {
      "cell_type": "code",
      "metadata": {
        "colab": {
          "base_uri": "https://localhost:8080/"
        },
        "id": "okhCWeLa1Nvb",
        "outputId": "599e6e9c-f81a-4c72-a7e2-121996a59af2"
      },
      "source": [
        "# Hadamard gate\n",
        "gate(reg_id, 'hadamard', {'q': 0})"
      ],
      "execution_count": 15,
      "outputs": [
        {
          "output_type": "execute_result",
          "data": {
            "text/plain": [
              "True"
            ]
          },
          "metadata": {
            "tags": []
          },
          "execution_count": 15
        }
      ]
    },
    {
      "cell_type": "code",
      "metadata": {
        "colab": {
          "base_uri": "https://localhost:8080/"
        },
        "id": "tLObRhEV1R4v",
        "outputId": "ab18548c-10ca-4e9b-8af1-e50b15b207b1"
      },
      "source": [
        "# Rx gate\n",
        "gate(reg_id, 'xrot', {'q': 0, 'theta': -np.pi/4})\n",
        "\n",
        "# Ry gate\n",
        "gate(reg_id, 'yrot', {'q': 0, 'theta': -np.pi/8})\n",
        "\n",
        "# Rz gate\n",
        "gate(reg_id, 'zrot', {'q': 0, 'theta': -np.pi/16})"
      ],
      "execution_count": 16,
      "outputs": [
        {
          "output_type": "execute_result",
          "data": {
            "text/plain": [
              "True"
            ]
          },
          "metadata": {
            "tags": []
          },
          "execution_count": 16
        }
      ]
    },
    {
      "cell_type": "code",
      "metadata": {
        "colab": {
          "base_uri": "https://localhost:8080/"
        },
        "id": "2axUYQwb3oOJ",
        "outputId": "03a9cec9-61df-4b18-98ff-d6898b1d19b1"
      },
      "source": [
        "# CNOT gate\n",
        "gate(reg_id, 'cnot', {'q_control': 0, 'q_target': 1})"
      ],
      "execution_count": 17,
      "outputs": [
        {
          "output_type": "execute_result",
          "data": {
            "text/plain": [
              "True"
            ]
          },
          "metadata": {
            "tags": []
          },
          "execution_count": 17
        }
      ]
    },
    {
      "cell_type": "markdown",
      "metadata": {
        "id": "dq84btp638Jz"
      },
      "source": [
        "## Step 3: Measure"
      ]
    },
    {
      "cell_type": "code",
      "metadata": {
        "colab": {
          "base_uri": "https://localhost:8080/"
        },
        "id": "Ob-92B9X39lz",
        "outputId": "6325fc98-ecf9-4bbd-8800-b24a82b817cd"
      },
      "source": [
        "# Measure qubit 0, 1\n",
        "c0 = measure_qubit(reg_id, {'lq2m': [0, 1]})\n",
        "print(c0)"
      ],
      "execution_count": 18,
      "outputs": [
        {
          "output_type": "stream",
          "text": [
            "3\n"
          ],
          "name": "stdout"
        }
      ]
    },
    {
      "cell_type": "markdown",
      "metadata": {
        "id": "_vkOK7U84ZLD"
      },
      "source": [
        "## Step 4: Destroy circuit"
      ]
    },
    {
      "cell_type": "code",
      "metadata": {
        "id": "2g_9O0hm4cS4"
      },
      "source": [
        "# Destroy circuit\n",
        "destroy_circuit(reg_id)"
      ],
      "execution_count": 19,
      "outputs": []
    },
    {
      "cell_type": "markdown",
      "metadata": {
        "id": "SjhnDSXq4xfz"
      },
      "source": [
        "# Reading the statevector"
      ]
    },
    {
      "cell_type": "markdown",
      "metadata": {
        "id": "QX894wvc40dr"
      },
      "source": [
        "At any point in the circuit, TheQ allows one to take a sneak peak at the state."
      ]
    },
    {
      "cell_type": "code",
      "metadata": {
        "colab": {
          "base_uri": "https://localhost:8080/"
        },
        "id": "0kH3Qb9C4yYt",
        "outputId": "98b574f0-87dd-4bdc-a2ee-f0880aa286b0"
      },
      "source": [
        "# Initialize the circuit\n",
        "reg_id = create_circuit(2,0)\n",
        "\n",
        "# Hadamard gate\n",
        "gate(reg_id, 'hadamard', {'q': 0})\n",
        "\n",
        "# Hadamard gate\n",
        "gate(reg_id, 'hadamard', {'q': 1})\n",
        "\n",
        "# Print the statevector \n",
        "print(print_vector(reg_id))\n",
        "\n",
        "# Destroy circuit\n",
        "destroy_circuit(reg_id)"
      ],
      "execution_count": 23,
      "outputs": [
        {
          "output_type": "stream",
          "text": [
            "[{'binary_pattern': '00', 'complex_value': {'im': 0.0, 're': 0.4999999999999999}, 'state': 0}, {'binary_pattern': '01', 'complex_value': {'im': 0.0, 're': 0.4999999999999999}, 'state': 1}, {'binary_pattern': '10', 'complex_value': {'im': 0.0, 're': 0.4999999999999999}, 'state': 2}, {'binary_pattern': '11', 'complex_value': {'im': 0.0, 're': 0.4999999999999999}, 'state': 3}]\n"
          ],
          "name": "stdout"
        }
      ]
    }
  ]
}