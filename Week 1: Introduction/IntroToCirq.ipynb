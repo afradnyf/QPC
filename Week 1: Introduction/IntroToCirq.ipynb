{
  "nbformat": 4,
  "nbformat_minor": 0,
  "metadata": {
    "colab": {
      "name": "IntroToCirq.ipynb",
      "provenance": []
    },
    "kernelspec": {
      "name": "python3",
      "display_name": "Python 3"
    },
    "language_info": {
      "name": "python"
    }
  },
  "cells": [
    {
      "cell_type": "markdown",
      "metadata": {
        "id": "i7PR0PReCr90"
      },
      "source": [
        "# Introduction to Cirq"
      ]
    },
    {
      "cell_type": "markdown",
      "metadata": {
        "id": "e6JRk4-mCwyO"
      },
      "source": [
        "This notebook will teach you the basics of simulation of quantum circuits using Cirq. "
      ]
    },
    {
      "cell_type": "markdown",
      "metadata": {
        "id": "Kmpgm7pZDq79"
      },
      "source": [
        "# Install Cirq\n",
        "\n",
        "Install Cirq if you haven't."
      ]
    },
    {
      "cell_type": "code",
      "metadata": {
        "colab": {
          "base_uri": "https://localhost:8080/"
        },
        "id": "8ApAbS3PSHD8",
        "outputId": "fe8eb246-f5ac-4fe8-a592-fdaf4d0bc83c"
      },
      "source": [
        "!pip install --quiet cirq"
      ],
      "execution_count": 2,
      "outputs": [
        {
          "output_type": "stream",
          "text": [
            "\u001b[K     |████████████████████████████████| 1.5 MB 8.2 MB/s \n",
            "\u001b[K     |████████████████████████████████| 380 kB 43.0 MB/s \n",
            "\u001b[K     |████████████████████████████████| 1.3 MB 32.5 MB/s \n",
            "\u001b[?25h"
          ],
          "name": "stdout"
        }
      ]
    },
    {
      "cell_type": "markdown",
      "metadata": {
        "id": "u9Ihp1LlD8o7"
      },
      "source": [
        "# Importing packages"
      ]
    },
    {
      "cell_type": "code",
      "metadata": {
        "id": "pcuQNJe9TcyB"
      },
      "source": [
        "import cirq # No need to explain why\n",
        "from cirq.contrib.svg import SVGCircuit # Required to display some fancy circuits\n",
        "import numpy as np # Required to play around with pi"
      ],
      "execution_count": 11,
      "outputs": []
    },
    {
      "cell_type": "markdown",
      "metadata": {
        "id": "pQOUUYNLEQws"
      },
      "source": [
        "# Creating circuits"
      ]
    },
    {
      "cell_type": "markdown",
      "metadata": {
        "id": "0tw0zg4uETR1"
      },
      "source": [
        "How to create quantum circuits in Cirq"
      ]
    },
    {
      "cell_type": "markdown",
      "metadata": {
        "id": "TdM9SBiAEU56"
      },
      "source": [
        "## Step 1: Initialize circuit"
      ]
    },
    {
      "cell_type": "markdown",
      "metadata": {
        "id": "qWPre7HyEXFG"
      },
      "source": [
        "Prepare the quantum circuit. This requires two steps:\n",
        "1. Initialize a quantum circuit\n",
        "2. Initialize the required number of qubits"
      ]
    },
    {
      "cell_type": "code",
      "metadata": {
        "id": "TIP_eCnnEnj6"
      },
      "source": [
        "# Initialize circuit \n",
        "circuit = cirq.Circuit()"
      ],
      "execution_count": 19,
      "outputs": []
    },
    {
      "cell_type": "code",
      "metadata": {
        "id": "4XYUhthOErvn"
      },
      "source": [
        "# Initialize qubits\n",
        "q0, q1 = cirq.LineQubit.range(2)"
      ],
      "execution_count": 20,
      "outputs": []
    },
    {
      "cell_type": "markdown",
      "metadata": {
        "id": "7_4JiRHVEwVM"
      },
      "source": [
        "## Step 2: Apply gates"
      ]
    },
    {
      "cell_type": "markdown",
      "metadata": {
        "id": "c4PrhGpPE24p"
      },
      "source": [
        "Now, we shall start applying the gates"
      ]
    },
    {
      "cell_type": "code",
      "metadata": {
        "id": "577f9BZEE1O9"
      },
      "source": [
        "# Prepare X gate on qubit 0\n",
        "circuit.append(cirq.X(q0))"
      ],
      "execution_count": 21,
      "outputs": []
    },
    {
      "cell_type": "code",
      "metadata": {
        "colab": {
          "base_uri": "https://localhost:8080/",
          "height": 71
        },
        "id": "yZqOc03rFK7k",
        "outputId": "10c0535b-95e8-4116-8702-b7ef6350a3ee"
      },
      "source": [
        "# Visualize the circuit\n",
        "SVGCircuit(circuit)"
      ],
      "execution_count": 22,
      "outputs": [
        {
          "output_type": "execute_result",
          "data": {
            "text/plain": [
              "<cirq.contrib.svg.svg.SVGCircuit at 0x7fb99ce866d0>"
            ],
            "image/svg+xml": "<svg xmlns=\"http://www.w3.org/2000/svg\" width=\"160.0\" height=\"50.0\"><line x1=\"30.0\" x2=\"130.0\" y1=\"25.0\" y2=\"25.0\" stroke=\"#1967d2\" stroke-width=\"1\" /><rect x=\"10.0\" y=\"5.0\" width=\"40\" height=\"40\" stroke=\"black\" fill=\"white\" stroke-width=\"0\" /><text x=\"30.0\" y=\"25.0\" dominant-baseline=\"middle\" text-anchor=\"middle\" font-size=\"14px\" font-family=\"Arial\">0: </text><rect x=\"70.0\" y=\"5.0\" width=\"40\" height=\"40\" stroke=\"black\" fill=\"white\" stroke-width=\"1\" /><text x=\"90.0\" y=\"25.0\" dominant-baseline=\"middle\" text-anchor=\"middle\" font-size=\"18px\" font-family=\"Arial\">X</text></svg>"
          },
          "metadata": {
            "tags": []
          },
          "execution_count": 22
        }
      ]
    },
    {
      "cell_type": "code",
      "metadata": {
        "id": "D6mbVPSjFQnP"
      },
      "source": [
        "# Hadamard gate\n",
        "circuit.append(cirq.H(q0))"
      ],
      "execution_count": 23,
      "outputs": []
    },
    {
      "cell_type": "code",
      "metadata": {
        "colab": {
          "base_uri": "https://localhost:8080/",
          "height": 71
        },
        "id": "CpK7J4chFUW5",
        "outputId": "44014489-df6a-443b-a2f9-f71a76dc707c"
      },
      "source": [
        "# Visualize the circuit\n",
        "SVGCircuit(circuit)"
      ],
      "execution_count": 24,
      "outputs": [
        {
          "output_type": "execute_result",
          "data": {
            "text/plain": [
              "<cirq.contrib.svg.svg.SVGCircuit at 0x7fb99c2f2310>"
            ],
            "image/svg+xml": "<svg xmlns=\"http://www.w3.org/2000/svg\" width=\"220.0\" height=\"50.0\"><line x1=\"30.0\" x2=\"190.0\" y1=\"25.0\" y2=\"25.0\" stroke=\"#1967d2\" stroke-width=\"1\" /><rect x=\"10.0\" y=\"5.0\" width=\"40\" height=\"40\" stroke=\"black\" fill=\"white\" stroke-width=\"0\" /><text x=\"30.0\" y=\"25.0\" dominant-baseline=\"middle\" text-anchor=\"middle\" font-size=\"14px\" font-family=\"Arial\">0: </text><rect x=\"70.0\" y=\"5.0\" width=\"40\" height=\"40\" stroke=\"black\" fill=\"white\" stroke-width=\"1\" /><text x=\"90.0\" y=\"25.0\" dominant-baseline=\"middle\" text-anchor=\"middle\" font-size=\"18px\" font-family=\"Arial\">X</text><rect x=\"130.0\" y=\"5.0\" width=\"40\" height=\"40\" stroke=\"black\" fill=\"white\" stroke-width=\"1\" /><text x=\"150.0\" y=\"25.0\" dominant-baseline=\"middle\" text-anchor=\"middle\" font-size=\"18px\" font-family=\"Arial\">H</text></svg>"
          },
          "metadata": {
            "tags": []
          },
          "execution_count": 24
        }
      ]
    },
    {
      "cell_type": "code",
      "metadata": {
        "id": "jq63e02hFVcb"
      },
      "source": [
        "# Rx gate\n",
        "circuit.append(cirq.rx(np.pi/4)(q0))\n",
        "\n",
        "# Ry gate\n",
        "circuit.append(cirq.ry(np.pi/8)(q0))\n",
        "\n",
        "# Rz gate\n",
        "circuit.append(cirq.rz(np.pi/16)(q0))"
      ],
      "execution_count": 25,
      "outputs": []
    },
    {
      "cell_type": "code",
      "metadata": {
        "colab": {
          "base_uri": "https://localhost:8080/",
          "height": 71
        },
        "id": "BQYcaB1yFz6S",
        "outputId": "52b8b943-026a-40a8-f141-212062724798"
      },
      "source": [
        "# Visualize the circuit\n",
        "SVGCircuit(circuit)"
      ],
      "execution_count": 26,
      "outputs": [
        {
          "output_type": "execute_result",
          "data": {
            "text/plain": [
              "<cirq.contrib.svg.svg.SVGCircuit at 0x7fb99c297910>"
            ],
            "image/svg+xml": "<svg xmlns=\"http://www.w3.org/2000/svg\" width=\"523.989453125\" height=\"50.0\"><line x1=\"30.0\" x2=\"493.989453125\" y1=\"25.0\" y2=\"25.0\" stroke=\"#1967d2\" stroke-width=\"1\" /><rect x=\"10.0\" y=\"5.0\" width=\"40\" height=\"40\" stroke=\"black\" fill=\"white\" stroke-width=\"0\" /><text x=\"30.0\" y=\"25.0\" dominant-baseline=\"middle\" text-anchor=\"middle\" font-size=\"14px\" font-family=\"Arial\">0: </text><rect x=\"70.0\" y=\"5.0\" width=\"40\" height=\"40\" stroke=\"black\" fill=\"white\" stroke-width=\"1\" /><text x=\"90.0\" y=\"25.0\" dominant-baseline=\"middle\" text-anchor=\"middle\" font-size=\"18px\" font-family=\"Arial\">X</text><rect x=\"130.0\" y=\"5.0\" width=\"40\" height=\"40\" stroke=\"black\" fill=\"white\" stroke-width=\"1\" /><text x=\"150.0\" y=\"25.0\" dominant-baseline=\"middle\" text-anchor=\"middle\" font-size=\"18px\" font-family=\"Arial\">H</text><rect x=\"190.0\" y=\"5.0\" width=\"75.96050781250001\" height=\"40\" stroke=\"black\" fill=\"white\" stroke-width=\"1\" /><text x=\"227.98025390625\" y=\"25.0\" dominant-baseline=\"middle\" text-anchor=\"middle\" font-size=\"14px\" font-family=\"Arial\">Rx(0.25π)</text><rect x=\"285.9605078125\" y=\"5.0\" width=\"84.097734375\" height=\"40\" stroke=\"black\" fill=\"white\" stroke-width=\"1\" /><text x=\"328.009375\" y=\"25.0\" dominant-baseline=\"middle\" text-anchor=\"middle\" font-size=\"14px\" font-family=\"Arial\">Ry(0.125π)</text><rect x=\"390.0582421875\" y=\"5.0\" width=\"83.93121093750001\" height=\"40\" stroke=\"black\" fill=\"white\" stroke-width=\"1\" /><text x=\"432.02384765625004\" y=\"25.0\" dominant-baseline=\"middle\" text-anchor=\"middle\" font-size=\"14px\" font-family=\"Arial\">Rz(0.062π)</text></svg>"
          },
          "metadata": {
            "tags": []
          },
          "execution_count": 26
        }
      ]
    },
    {
      "cell_type": "code",
      "metadata": {
        "id": "N45nVK-eFveA"
      },
      "source": [
        "# CNOT gate\n",
        "circuit.append(cirq.CNOT(q0, q1))"
      ],
      "execution_count": 27,
      "outputs": []
    },
    {
      "cell_type": "code",
      "metadata": {
        "colab": {
          "base_uri": "https://localhost:8080/",
          "height": 121
        },
        "id": "ctAxA8MpF97U",
        "outputId": "beb62139-c433-4aee-9bab-050533cfe2f5"
      },
      "source": [
        "# Visualize the circuit\n",
        "SVGCircuit(circuit)"
      ],
      "execution_count": 28,
      "outputs": [
        {
          "output_type": "execute_result",
          "data": {
            "text/plain": [
              "<cirq.contrib.svg.svg.SVGCircuit at 0x7fb99c2974d0>"
            ],
            "image/svg+xml": "<svg xmlns=\"http://www.w3.org/2000/svg\" width=\"583.989453125\" height=\"100.0\"><line x1=\"30.0\" x2=\"553.989453125\" y1=\"25.0\" y2=\"25.0\" stroke=\"#1967d2\" stroke-width=\"1\" /><line x1=\"30.0\" x2=\"553.989453125\" y1=\"75.0\" y2=\"75.0\" stroke=\"#1967d2\" stroke-width=\"1\" /><line x1=\"513.989453125\" x2=\"513.989453125\" y1=\"25.0\" y2=\"75.0\" stroke=\"black\" stroke-width=\"3\" /><rect x=\"10.0\" y=\"5.0\" width=\"40\" height=\"40\" stroke=\"black\" fill=\"white\" stroke-width=\"0\" /><text x=\"30.0\" y=\"25.0\" dominant-baseline=\"middle\" text-anchor=\"middle\" font-size=\"14px\" font-family=\"Arial\">0: </text><rect x=\"10.0\" y=\"55.0\" width=\"40\" height=\"40\" stroke=\"black\" fill=\"white\" stroke-width=\"0\" /><text x=\"30.0\" y=\"75.0\" dominant-baseline=\"middle\" text-anchor=\"middle\" font-size=\"14px\" font-family=\"Arial\">1: </text><rect x=\"70.0\" y=\"5.0\" width=\"40\" height=\"40\" stroke=\"black\" fill=\"white\" stroke-width=\"1\" /><text x=\"90.0\" y=\"25.0\" dominant-baseline=\"middle\" text-anchor=\"middle\" font-size=\"18px\" font-family=\"Arial\">X</text><rect x=\"130.0\" y=\"5.0\" width=\"40\" height=\"40\" stroke=\"black\" fill=\"white\" stroke-width=\"1\" /><text x=\"150.0\" y=\"25.0\" dominant-baseline=\"middle\" text-anchor=\"middle\" font-size=\"18px\" font-family=\"Arial\">H</text><rect x=\"190.0\" y=\"5.0\" width=\"75.96050781250001\" height=\"40\" stroke=\"black\" fill=\"white\" stroke-width=\"1\" /><text x=\"227.98025390625\" y=\"25.0\" dominant-baseline=\"middle\" text-anchor=\"middle\" font-size=\"14px\" font-family=\"Arial\">Rx(0.25π)</text><rect x=\"285.9605078125\" y=\"5.0\" width=\"84.097734375\" height=\"40\" stroke=\"black\" fill=\"white\" stroke-width=\"1\" /><text x=\"328.009375\" y=\"25.0\" dominant-baseline=\"middle\" text-anchor=\"middle\" font-size=\"14px\" font-family=\"Arial\">Ry(0.125π)</text><rect x=\"390.0582421875\" y=\"5.0\" width=\"83.93121093750001\" height=\"40\" stroke=\"black\" fill=\"white\" stroke-width=\"1\" /><text x=\"432.02384765625004\" y=\"25.0\" dominant-baseline=\"middle\" text-anchor=\"middle\" font-size=\"14px\" font-family=\"Arial\">Rz(0.062π)</text><circle cx=\"513.989453125\" cy=\"25.0\" r=\"10.0\" /><rect x=\"493.98945312499995\" y=\"55.0\" width=\"40\" height=\"40\" stroke=\"black\" fill=\"white\" stroke-width=\"1\" /><text x=\"513.989453125\" y=\"75.0\" dominant-baseline=\"middle\" text-anchor=\"middle\" font-size=\"18px\" font-family=\"Arial\">X</text></svg>"
          },
          "metadata": {
            "tags": []
          },
          "execution_count": 28
        }
      ]
    },
    {
      "cell_type": "markdown",
      "metadata": {
        "id": "qhbRIicfGBED"
      },
      "source": [
        "## Step 3: Measure"
      ]
    },
    {
      "cell_type": "code",
      "metadata": {
        "id": "StFThVeLGCgh"
      },
      "source": [
        "# Meaure qubits 0,1\n",
        "circuit.append(cirq.measure(q0, q1, key='0'))"
      ],
      "execution_count": 29,
      "outputs": []
    },
    {
      "cell_type": "markdown",
      "metadata": {
        "id": "hTqLt7TJGNBC"
      },
      "source": [
        "# Circuit Simulation"
      ]
    },
    {
      "cell_type": "code",
      "metadata": {
        "colab": {
          "base_uri": "https://localhost:8080/",
          "height": 312
        },
        "id": "C5qkd_TuGO5j",
        "outputId": "2a8e0d33-e0c9-4974-a226-8de7aa5bbf58"
      },
      "source": [
        "s=cirq.Simulator()\n",
        "samples=s.run(circuit, repetitions=1000)\n",
        "\n",
        "# Plot the results\n",
        "cirq.vis.plot_state_histogram(samples)"
      ],
      "execution_count": 30,
      "outputs": [
        {
          "output_type": "execute_result",
          "data": {
            "text/plain": [
              "<matplotlib.axes._subplots.AxesSubplot at 0x7fb99c297d50>"
            ]
          },
          "metadata": {
            "tags": []
          },
          "execution_count": 30
        },
        {
          "output_type": "display_data",
          "data": {
            "image/png": "[encoded data removed]",
            "text/plain": [
              "<Figure size 432x288 with 1 Axes>"
            ]
          },
          "metadata": {
            "tags": [],
            "needs_background": "light"
          }
        }
      ]
    },
    {
      "cell_type": "code",
      "metadata": {
        "colab": {
          "base_uri": "https://localhost:8080/",
          "height": 121
        },
        "id": "eVM7w9LkG0zn",
        "outputId": "832affd9-5397-4c93-fbb8-f86734b02f0f"
      },
      "source": [
        "# Visualize the circuit\n",
        "SVGCircuit(circuit)"
      ],
      "execution_count": 31,
      "outputs": [
        {
          "output_type": "execute_result",
          "data": {
            "text/plain": [
              "<cirq.contrib.svg.svg.SVGCircuit at 0x7fb99c27d150>"
            ],
            "image/svg+xml": "<svg xmlns=\"http://www.w3.org/2000/svg\" width=\"651.0202734375\" height=\"100.0\"><line x1=\"30.0\" x2=\"621.0202734375\" y1=\"25.0\" y2=\"25.0\" stroke=\"#1967d2\" stroke-width=\"1\" /><line x1=\"30.0\" x2=\"621.0202734375\" y1=\"75.0\" y2=\"75.0\" stroke=\"#1967d2\" stroke-width=\"1\" /><line x1=\"513.989453125\" x2=\"513.989453125\" y1=\"25.0\" y2=\"75.0\" stroke=\"black\" stroke-width=\"3\" /><line x1=\"577.50486328125\" x2=\"577.50486328125\" y1=\"25.0\" y2=\"75.0\" stroke=\"black\" stroke-width=\"3\" /><rect x=\"10.0\" y=\"5.0\" width=\"40\" height=\"40\" stroke=\"black\" fill=\"white\" stroke-width=\"0\" /><text x=\"30.0\" y=\"25.0\" dominant-baseline=\"middle\" text-anchor=\"middle\" font-size=\"14px\" font-family=\"Arial\">0: </text><rect x=\"10.0\" y=\"55.0\" width=\"40\" height=\"40\" stroke=\"black\" fill=\"white\" stroke-width=\"0\" /><text x=\"30.0\" y=\"75.0\" dominant-baseline=\"middle\" text-anchor=\"middle\" font-size=\"14px\" font-family=\"Arial\">1: </text><rect x=\"70.0\" y=\"5.0\" width=\"40\" height=\"40\" stroke=\"black\" fill=\"white\" stroke-width=\"1\" /><text x=\"90.0\" y=\"25.0\" dominant-baseline=\"middle\" text-anchor=\"middle\" font-size=\"18px\" font-family=\"Arial\">X</text><rect x=\"130.0\" y=\"5.0\" width=\"40\" height=\"40\" stroke=\"black\" fill=\"white\" stroke-width=\"1\" /><text x=\"150.0\" y=\"25.0\" dominant-baseline=\"middle\" text-anchor=\"middle\" font-size=\"18px\" font-family=\"Arial\">H</text><rect x=\"190.0\" y=\"5.0\" width=\"75.96050781250001\" height=\"40\" stroke=\"black\" fill=\"white\" stroke-width=\"1\" /><text x=\"227.98025390625\" y=\"25.0\" dominant-baseline=\"middle\" text-anchor=\"middle\" font-size=\"14px\" font-family=\"Arial\">Rx(0.25π)</text><rect x=\"285.9605078125\" y=\"5.0\" width=\"84.097734375\" height=\"40\" stroke=\"black\" fill=\"white\" stroke-width=\"1\" /><text x=\"328.009375\" y=\"25.0\" dominant-baseline=\"middle\" text-anchor=\"middle\" font-size=\"14px\" font-family=\"Arial\">Ry(0.125π)</text><rect x=\"390.0582421875\" y=\"5.0\" width=\"83.93121093750001\" height=\"40\" stroke=\"black\" fill=\"white\" stroke-width=\"1\" /><text x=\"432.02384765625004\" y=\"25.0\" dominant-baseline=\"middle\" text-anchor=\"middle\" font-size=\"14px\" font-family=\"Arial\">Rz(0.062π)</text><circle cx=\"513.989453125\" cy=\"25.0\" r=\"10.0\" /><rect x=\"493.98945312499995\" y=\"55.0\" width=\"40\" height=\"40\" stroke=\"black\" fill=\"white\" stroke-width=\"1\" /><text x=\"513.989453125\" y=\"75.0\" dominant-baseline=\"middle\" text-anchor=\"middle\" font-size=\"18px\" font-family=\"Arial\">X</text><rect x=\"553.989453125\" y=\"5.0\" width=\"47.0308203125\" height=\"40\" stroke=\"black\" fill=\"white\" stroke-width=\"1\" /><text x=\"577.50486328125\" y=\"25.0\" dominant-baseline=\"middle\" text-anchor=\"middle\" font-size=\"14px\" font-family=\"Arial\">M('0')</text><rect x=\"553.989453125\" y=\"55.0\" width=\"47.0308203125\" height=\"40\" stroke=\"black\" fill=\"white\" stroke-width=\"1\" /><text x=\"577.50486328125\" y=\"75.0\" dominant-baseline=\"middle\" text-anchor=\"middle\" font-size=\"18px\" font-family=\"Arial\">M</text></svg>"
          },
          "metadata": {
            "tags": []
          },
          "execution_count": 31
        }
      ]
    },
    {
      "cell_type": "markdown",
      "metadata": {
        "id": "qpReBZIQG7Sl"
      },
      "source": [
        "# Reading the statevector"
      ]
    },
    {
      "cell_type": "markdown",
      "metadata": {
        "id": "yRQNdM_TG79x"
      },
      "source": [
        "During simulations, Cirq allows one to take a sneak peak at the state."
      ]
    },
    {
      "cell_type": "code",
      "metadata": {
        "colab": {
          "base_uri": "https://localhost:8080/"
        },
        "id": "VEMevju0G-fv",
        "outputId": "b305c064-0d80-4aae-d771-513d804adb48"
      },
      "source": [
        "# Initialize circuit \n",
        "circuit = cirq.Circuit()\n",
        "\n",
        "# Initialize qubits\n",
        "q0, q1 = cirq.LineQubit.range(2)\n",
        "\n",
        "# Prepare Hadamrad gate on qubit 0\n",
        "circuit.append(cirq.H(q0))\n",
        "\n",
        "# Prepare Hadamrad gate on qubit 1\n",
        "circuit.append(cirq.H(q1))\n",
        "\n",
        "# Extract the statevector\n",
        "s=cirq.Simulator()\n",
        "result=s.simulate(circuit)\n",
        "statevector = result.final_state_vector\n",
        "print(statevector)"
      ],
      "execution_count": 32,
      "outputs": [
        {
          "output_type": "stream",
          "text": [
            "[0.49999997+0.j 0.49999997+0.j 0.49999997+0.j 0.49999997+0.j]\n"
          ],
          "name": "stdout"
        }
      ]
    }
  ]
}