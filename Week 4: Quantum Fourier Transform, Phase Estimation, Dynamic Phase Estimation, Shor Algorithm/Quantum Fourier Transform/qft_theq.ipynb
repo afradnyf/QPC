{
  "nbformat": 4,
  "nbformat_minor": 0,
  "metadata": {
    "colab": {
      "name": "qft_theq.ipynb",
      "provenance": [],
      "collapsed_sections": [
        "dkszKePnT7oC",
        "AFZ4i5pSrlLd"
      ]
    },
    "kernelspec": {
      "name": "python3",
      "display_name": "Python 3"
    },
    "language_info": {
      "name": "python"
    }
  },
  "cells": [
    {
      "cell_type": "markdown",
      "metadata": {
        "id": "rDfqhLmZTjHs"
      },
      "source": [
        "# Circuit of Quantum Fourier Transform using TheQ\n",
        "\n",
        "This notebook will teach you how to construct your own circuits for the Quantum Fourier Transform using TheQ."
      ]
    },
    {
      "cell_type": "markdown",
      "metadata": {
        "id": "dkszKePnT7oC"
      },
      "source": [
        "# Importing Packages"
      ]
    },
    {
      "cell_type": "code",
      "metadata": {
        "id": "8BE5fFlgUB5w"
      },
      "source": [
        "# Server addresses should be stable, but may occasionally be offline\n",
        "import requests\n",
        "import json\n",
        "import math\n",
        "from google.colab import files\n",
        "req_str = 'http://8b851bd5c0ec.ngrok.io/qsim/perform_operation'\n",
        "req_str_qasm = 'http://8b851bd5c0ec.ngrok.io/qsim/qasm'\n",
        "\n",
        "import numpy as np\n",
        "import time"
      ],
      "execution_count": null,
      "outputs": []
    },
    {
      "cell_type": "markdown",
      "metadata": {
        "id": "AFZ4i5pSrlLd"
      },
      "source": [
        "# Required functions"
      ]
    },
    {
      "cell_type": "markdown",
      "metadata": {
        "id": "Bl0xGKQTrpNP"
      },
      "source": [
        "These are some required functions to run any circuit in TheQ."
      ]
    },
    {
      "cell_type": "code",
      "metadata": {
        "id": "2_-DxebzrsQC"
      },
      "source": [
        "# Define Create ciruit (these are the four core definitions for any circuit)\n",
        "# all circuits must be bookmarked by the create_circuit and destroy_circuit command\n",
        "\n",
        "# Initial_state is a binary integer to initalise all qubit, \n",
        "# most often initial_state=0.\n",
        "def create_circuit(qubits,initial_state):\n",
        "    data = {\n",
        "        'operation': 'create_circuit',\n",
        "        'num_qubits': qubits\n",
        "    }\n",
        "    result = requests.post(req_str, json=data)\n",
        "    json_obj = json.loads(result.content)\n",
        "    reg_id = json_obj['result']\n",
        "\n",
        "    data = {\n",
        "        'operation': 'set_state',\n",
        "        'register': reg_id,\n",
        "        'state': initial_state,\n",
        "        'complex_value': {'re': 1, 'im': 0}\n",
        "    }\n",
        "    result = requests.post(req_str, json=data)\n",
        "    return reg_id\n",
        "\n",
        "# Gates.  gate_name and params are specified from the list above\n",
        "def gate(register_id, gate_name, params):\n",
        "    data = {\n",
        "        'operation': 'gate',\n",
        "        'register': register_id,\n",
        "        'gate': gate_name\n",
        "    }\n",
        "    for k in params.keys():\n",
        "        data[k] = params[k]\n",
        "    result = requests.post(req_str, json=data)\n",
        "    json_obj=json.loads(result.content)\n",
        "    return json_obj['result']\n",
        "\n",
        "# params contain an array of qubit numbers to measure, 'lq2m': [0,1,3] would measure qubits 0, 1 and 3 and return the \n",
        "# corresponding 3-bit integer value from 0 to 7.\n",
        "def measure_qubit(register_id, params):\n",
        "    data = {\n",
        "        'operation': 'measure', \n",
        "        'register': register_id,\n",
        "    }\n",
        "    for k in params.keys():\n",
        "        data[k] = params[k]\n",
        "    result = requests.post(req_str, json=data)\n",
        "\n",
        "    json_obj = json.loads(result.content)\n",
        "    return json_obj['result']\n",
        "\n",
        "# Always call destroy_circuit to terminate simulation (turn off your QC)\n",
        "def destroy_circuit(register_id):\n",
        "  data = {\n",
        "        'operation': 'destroy_circuit', \n",
        "        'register': register_id\n",
        "  }\n",
        "  result = requests.post(req_str, json=data)\n",
        "\n",
        "# Print allows you to output the current computational state of the machine.\n",
        "def print_vector(register_id):\n",
        "  data = {\n",
        "        'operation': 'state_vector', \n",
        "        'register': register_id\n",
        "  }\n",
        "  result = requests.post(req_str, json=data)\n",
        "  json_obj = json.loads(result.content)\n",
        "  return json_obj['result']\n",
        "\n"
      ],
      "execution_count": null,
      "outputs": []
    },
    {
      "cell_type": "markdown",
      "metadata": {
        "id": "OUKGml-NUDw8"
      },
      "source": [
        "# The circuits"
      ]
    },
    {
      "cell_type": "markdown",
      "metadata": {
        "id": "UF2Gva-CUHIo"
      },
      "source": [
        "Now, we move on to main part of the notebook. In this section, we shall explain the construction of circuits for the Quantum Fourier Transform (QFT) acting on for 4 qubits. The QFT can be implemented using two types of gates, Hadamard and controlled-$R_k$, where controlled-$R_k$ is given as\n",
        "\n",
        "\\begin{equation}\n",
        "  R_k =\n",
        "  \\begin{bmatrix}\n",
        "    1 & 0 & 0 & 0\\\\\n",
        "    0 & 1 & 0 & 0\\\\\n",
        "    0 & 0 & 1 & 0\\\\\n",
        "    0 & 0 & 0 & e ^ {\\frac{2 \\pi i}{2 ^ k}}\n",
        "  \\end{bmatrix}\n",
        "\\end{equation}\n",
        "\n",
        "Each of these controlled-$R_k$ gates can be implemented using the controlled phase gate available in TheQ, whose structure is given as \n",
        "\n",
        "\\begin{equation}\n",
        "  CPHASE (\\phi) =\n",
        "  \\begin{bmatrix}\n",
        "    1 & 0 & 0 & 0\\\\\n",
        "    0 & 1 & 0 & 0\\\\\n",
        "    0 & 0 & 1 & 0\\\\\n",
        "    0 & 0 & 0 & e ^ {i \\phi}\n",
        "  \\end{bmatrix}\n",
        "\\end{equation}\n"
      ]
    },
    {
      "cell_type": "markdown",
      "metadata": {
        "id": "PWBhEP2pV4ak"
      },
      "source": [
        "# QFT on 4 qubits"
      ]
    },
    {
      "cell_type": "markdown",
      "metadata": {
        "id": "1L31_UvlV9Zi"
      },
      "source": [
        "Let $x = x_1 x_2 x_3 x_4$ be a bit string of length $4$. The QFT on $4$ qubits is the operator defined as \n",
        "\\begin{equation}\n",
        "  QFT|x_1x_2x_3x_4\\rangle = \\frac{1}{4} \\sum \\limits_{j = 0}^{15} e ^ {\\frac{2 \\pi i (j \\cdot x)}{16}} |j\\rangle\n",
        "\\end{equation}\n",
        "\n",
        "The circuit for Quantum Fourier Transform on $4$ qubits is given as\n",
        "\n",
        "![qft_4_qubit.png](data:image/png;base64,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)"
      ]
    },
    {
      "cell_type": "markdown",
      "metadata": {
        "id": "MupQi6t-m1hs"
      },
      "source": [
        "Now, we move on to constructing this circuit using TheQ"
      ]
    },
    {
      "cell_type": "markdown",
      "metadata": {
        "id": "QvWw8UgSnOPo"
      },
      "source": [
        "Since the circuit contains four qubits, we create a circuit with four qubits."
      ]
    },
    {
      "cell_type": "code",
      "metadata": {
        "id": "l-zdVlvPnl3I"
      },
      "source": [
        "# Prepare the circuit\n",
        "reg_id = create_circuit(4,0)"
      ],
      "execution_count": null,
      "outputs": []
    },
    {
      "cell_type": "markdown",
      "metadata": {
        "id": "FzXGLU6jnpD3"
      },
      "source": [
        "Now, we shall start applying the gates. The first section of the circuit is to apply a $H$ gate on the most significant bit and a set of $CZ ^ {n}$ gates targeted on the same qubit. "
      ]
    },
    {
      "cell_type": "code",
      "metadata": {
        "id": "A9z9BopbLcds",
        "colab": {
          "base_uri": "https://localhost:8080/"
        },
        "outputId": "24366b06-4840-4be1-b100-ca3b1df4b84c"
      },
      "source": [
        "# Apply Hadamard gate on the most significant bit.\n",
        "gate(reg_id, 'hadamard', {'q': 3})\n",
        "\n",
        "# Apply the sequence of CPHASE(phi) gates\n",
        "gate(reg_id, 'cphase', {'q_control': 2, 'q_target': 3, 'theta': np.pi/2})\n",
        "gate(reg_id, 'cphase', {'q_control': 1, 'q_target': 3, 'theta': np.pi/4})\n",
        "gate(reg_id, 'cphase', {'q_control': 0, 'q_target': 3, 'theta': np.pi/8})"
      ],
      "execution_count": null,
      "outputs": [
        {
          "output_type": "execute_result",
          "data": {
            "text/plain": [
              "True"
            ]
          },
          "metadata": {
            "tags": []
          },
          "execution_count": 37
        }
      ]
    },
    {
      "cell_type": "markdown",
      "metadata": {
        "id": "7d-JUl5IQuB8"
      },
      "source": [
        "We'll move on to the next most significant qubit."
      ]
    },
    {
      "cell_type": "code",
      "metadata": {
        "id": "mM8p2BP4Qz-8",
        "colab": {
          "base_uri": "https://localhost:8080/"
        },
        "outputId": "9bc27fe4-5a69-440f-90c6-2ac2e649dd60"
      },
      "source": [
        "# Apply Hadamard gate on the next most significant bit.\n",
        "gate(reg_id, 'hadamard', {'q': 2})\n",
        "\n",
        "# Apply the sequence of CPHASE(phi) gates\n",
        "gate(reg_id, 'cphase', {'q_control': 1, 'q_target': 2, 'theta': np.pi/2})\n",
        "gate(reg_id, 'cphase', {'q_control': 0, 'q_target': 2, 'theta': np.pi/4})"
      ],
      "execution_count": null,
      "outputs": [
        {
          "output_type": "execute_result",
          "data": {
            "text/plain": [
              "True"
            ]
          },
          "metadata": {
            "tags": []
          },
          "execution_count": 38
        }
      ]
    },
    {
      "cell_type": "markdown",
      "metadata": {
        "id": "YauDp9TJRFaF"
      },
      "source": [
        "Now let's complete the circuit."
      ]
    },
    {
      "cell_type": "code",
      "metadata": {
        "colab": {
          "base_uri": "https://localhost:8080/"
        },
        "id": "z0y8OM9URK-8",
        "outputId": "7586ea1f-a4a7-44e3-8ebf-a49d5641f824"
      },
      "source": [
        "# Apply Hadamard gate on the next most significant bit. \n",
        "gate(reg_id, 'hadamard', {'q': 1})\n",
        "\n",
        "# Apply the last CPHASE(phi) gate\n",
        "gate(reg_id, 'cphase', {'q_control': 0, 'q_target': 1, 'theta': np.pi/2})\n",
        "\n",
        "# Apply Hadamard gate on the least significant bit. \n",
        "gate(reg_id, 'hadamard', {'q': 0})"
      ],
      "execution_count": null,
      "outputs": [
        {
          "output_type": "execute_result",
          "data": {
            "text/plain": [
              "True"
            ]
          },
          "metadata": {
            "tags": []
          },
          "execution_count": 39
        }
      ]
    },
    {
      "cell_type": "markdown",
      "metadata": {
        "id": "KRK_O-DVRe0d"
      },
      "source": [
        "Lets apply the final two swap gates"
      ]
    },
    {
      "cell_type": "code",
      "metadata": {
        "id": "hfFXxgV6Rjjl",
        "colab": {
          "base_uri": "https://localhost:8080/"
        },
        "outputId": "9340fcfe-347a-44ed-e088-f1d1d9ae1d54"
      },
      "source": [
        "# Swap gate applied by 3 successive CNOT gates between q0 and q3\n",
        "gate(reg_id, 'cnot', {'q_control': 0, 'q_target': 3})\n",
        "gate(reg_id, 'cnot', {'q_control': 3, 'q_target': 0})\n",
        "gate(reg_id, 'cnot', {'q_control': 0, 'q_target': 3})\n",
        "\n",
        "# Swap gate applied by 3 successive CNOT gates between q1 and q2\n",
        "gate(reg_id, 'cnot', {'q_control': 1, 'q_target': 2})\n",
        "gate(reg_id, 'cnot', {'q_control': 2, 'q_target': 1})\n",
        "gate(reg_id, 'cnot', {'q_control': 1, 'q_target': 2})"
      ],
      "execution_count": null,
      "outputs": [
        {
          "output_type": "execute_result",
          "data": {
            "text/plain": [
              "True"
            ]
          },
          "metadata": {
            "tags": []
          },
          "execution_count": 40
        }
      ]
    },
    {
      "cell_type": "markdown",
      "metadata": {
        "id": "OwZpkkL5u5fr"
      },
      "source": [
        "We have completed the construction of the circuit. It is always a good habit to destroy the circuit after using."
      ]
    },
    {
      "cell_type": "code",
      "metadata": {
        "id": "31ItWzFo9Mbf"
      },
      "source": [
        "destroy_circuit(reg_id)"
      ],
      "execution_count": null,
      "outputs": []
    },
    {
      "cell_type": "markdown",
      "metadata": {
        "id": "70gFRtr8R6xI"
      },
      "source": [
        "## Validation"
      ]
    },
    {
      "cell_type": "markdown",
      "metadata": {
        "id": "d_ez3D2dR_T8"
      },
      "source": [
        "For validating our circuit, we apply this circuit on all the possible basis vectors, and compare the result with the Fourier transform matrix. For that, we first prepare the Fourier Transform matrix $F$, whose $(j,k)^{th}$ element is $\\frac{1}{4} e ^ {\\frac{2 \\pi i j \\cdot k}{16}}$"
      ]
    },
    {
      "cell_type": "code",
      "metadata": {
        "id": "0CKk3C9vUkxx"
      },
      "source": [
        "DFT = np.zeros((16,16)) + (1j * np.zeros((16,16)))\n",
        "for j in range(16):\n",
        "  for k in range(16):\n",
        "    DFT[j][k] = (1/4) * np.cos((2 * np.pi * j * k)/16) + (1j * (1/4) * np.sin((2 * np.pi * j * k)/16))"
      ],
      "execution_count": null,
      "outputs": []
    },
    {
      "cell_type": "markdown",
      "metadata": {
        "id": "aVh6B6QBVNtj"
      },
      "source": [
        "Now, lets apply our quantum circuit on the state $|8\\rangle$. If our circuit was correct, then the output of the circuit should be the $9^{th}$ column of the $DFT$ matrix defined in the previous cell. So, we shall compute the norm of difference between the $2$ vectors, that is\n",
        "\\begin{equation}\n",
        "  \\Big| \\Big| QFT|8\\rangle - DFT[:,8]\\Big| \\Big|_2\n",
        "\\end{equation}\n",
        "If this value is close to 0, then we start to have more confidence in our circuit."
      ]
    },
    {
      "cell_type": "code",
      "metadata": {
        "id": "-F_lV2XXyged"
      },
      "source": [
        "# Initialize circuit \n",
        "reg_id = create_circuit(4,0)\n",
        "\n",
        "# To prepare \"8\", we flip the most signifact qubit \n",
        "gate(reg_id, 'X', {'q': 3})\n",
        "\n",
        "# Apply QFT\n",
        "for j in range(3, -1, -1):\n",
        "  gate(reg_id, 'hadamard', {'q': j})\n",
        "  for k in range(j-1, -1, -1):\n",
        "    gate(reg_id, 'cphase', {'q_control': k, 'q_target': j, 'theta': np.pi/(2 ** (j-k))})\n",
        "\n",
        "for j in range(4):\n",
        "  if j < 3 - j:\n",
        "    gate(reg_id, 'cnot', {'q_control': j, 'q_target': 3-j})\n",
        "    gate(reg_id, 'cnot', {'q_control': 3-j, 'q_target': j})\n",
        "    gate(reg_id, 'cnot', {'q_control': j, 'q_target': 3-j})"
      ],
      "execution_count": null,
      "outputs": []
    },
    {
      "cell_type": "markdown",
      "metadata": {
        "id": "PO3Tsaoc7qDR"
      },
      "source": [
        "Next step is to extract the state associated with the output of this circuit."
      ]
    },
    {
      "cell_type": "code",
      "metadata": {
        "id": "SBA_YfGh95w9"
      },
      "source": [
        "statevector = np.zeros(16) + (1j * np.zeros(16))\n",
        "for i in range(16):\n",
        "  statevector[i] = print_vector(reg_id)[i]['complex_value']['re'] + (1j * print_vector(reg_id)[i]['complex_value']['im'])"
      ],
      "execution_count": null,
      "outputs": []
    },
    {
      "cell_type": "markdown",
      "metadata": {
        "id": "Ua5OSb8_-C9a"
      },
      "source": [
        "Now lets compute the required norm"
      ]
    },
    {
      "cell_type": "code",
      "metadata": {
        "colab": {
          "base_uri": "https://localhost:8080/"
        },
        "id": "rh5yVh5G-EHK",
        "outputId": "592f25f3-d217-4c12-dd8f-bfa9316bda40"
      },
      "source": [
        "np.linalg.norm(statevector - DFT[:,8])"
      ],
      "execution_count": null,
      "outputs": [
        {
          "output_type": "execute_result",
          "data": {
            "text/plain": [
              "2.0849072569817254e-15"
            ]
          },
          "metadata": {
            "tags": []
          },
          "execution_count": 6
        }
      ]
    },
    {
      "cell_type": "markdown",
      "metadata": {
        "id": "aC4nfp9G-HeA"
      },
      "source": [
        "As expected, we see that the value is 0."
      ]
    },
    {
      "cell_type": "markdown",
      "metadata": {
        "id": "e__LDPgo-7m1"
      },
      "source": [
        "Don't forget to destroy the circuit"
      ]
    },
    {
      "cell_type": "code",
      "metadata": {
        "id": "d-Wyu3wc_A9H"
      },
      "source": [
        "destroy_circuit(reg_id)"
      ],
      "execution_count": null,
      "outputs": []
    },
    {
      "cell_type": "markdown",
      "metadata": {
        "id": "AuKWM22c-J5i"
      },
      "source": [
        "Now, we shall do a similar check on all basis states $|0\\rangle, |1\\rangle, \\dots, |15\\rangle$"
      ]
    },
    {
      "cell_type": "code",
      "metadata": {
        "colab": {
          "base_uri": "https://localhost:8080/"
        },
        "id": "2SUoA0HW7NZk",
        "outputId": "da42226a-2618-48a7-d54a-530c97707d05"
      },
      "source": [
        "# This function converts a decimal number to its binary expansion\n",
        "def Binary(x, BitNo):\n",
        "  format(x, 'b').zfill(BitNo)\n",
        "  Binlist = [int(y) for y in list(format(x, 'b').zfill(BitNo))]\n",
        "  return Binlist\n",
        "\n",
        "for i in range(16):\n",
        "\n",
        "  # Compute the binary expansion of i\n",
        "  bin_list = Binary(i, 4)\n",
        "\n",
        "  # Reverse the output since Tin our circuit, 3 is the most signifcant qubit\n",
        "  bin_list.reverse()\n",
        "\n",
        "  # Initialize circuit \n",
        "  reg_id = create_circuit(4,0)\n",
        "\n",
        "  # Prepare the state associated with i\n",
        "  for j in range(4):\n",
        "    if bin_list[j] == 1:\n",
        "        gate(reg_id, 'X', {'q': j})\n",
        "\n",
        "  # Apply QFT\n",
        "  for j in range(3, -1, -1):\n",
        "    gate(reg_id, 'hadamard', {'q': j})\n",
        "    for k in range(j-1, -1, -1):\n",
        "      gate(reg_id, 'cphase', {'q_control': k, 'q_target': j, 'theta': np.pi/(2 ** (j-k))})\n",
        "\n",
        "  for j in range(4):\n",
        "    if j < 3 - j:\n",
        "      gate(reg_id, 'cnot', {'q_control': j, 'q_target': 3-j})\n",
        "      gate(reg_id, 'cnot', {'q_control': 3-j, 'q_target': j})\n",
        "      gate(reg_id, 'cnot', {'q_control': j, 'q_target': 3-j})\n",
        "\n",
        "  # Extract the statevector\n",
        "  statevector = np.zeros(16) + (1j * np.zeros(16))\n",
        "  for j in range(16):\n",
        "    statevector[j] = print_vector(reg_id)[j]['complex_value']['re'] + (1j * print_vector(reg_id)[j]['complex_value']['im'])\n",
        "\n",
        "  # Display the norm of difference\n",
        "  print(\"Norm of difference for the state associated with {} is {}\".format(i, np.linalg.norm(statevector - DFT[:,i])))\n",
        "\n",
        "  # Destroy the circuit\n",
        "  destroy_circuit(reg_id)\n",
        "  \n",
        "  # Give TheQ a break\n",
        "  time.sleep(10)"
      ],
      "execution_count": null,
      "outputs": [
        {
          "output_type": "stream",
          "text": [
            "Norm of difference for the state associated with 0 is 3.3306690738754696e-16\n",
            "Norm of difference for the state associated with 1 is 4.297039113746534e-16\n",
            "Norm of difference for the state associated with 2 is 5.802634774236656e-16\n",
            "Norm of difference for the state associated with 3 is 1.1152891720330888e-15\n",
            "Norm of difference for the state associated with 4 is 1.062164269071369e-15\n",
            "Norm of difference for the state associated with 5 is 1.3096669926994528e-15\n",
            "Norm of difference for the state associated with 6 is 2.3197745446672062e-15\n",
            "Norm of difference for the state associated with 7 is 2.6483700705796413e-15\n",
            "Norm of difference for the state associated with 8 is 2.0849072569817254e-15\n",
            "Norm of difference for the state associated with 9 is 2.159997305704014e-15\n",
            "Norm of difference for the state associated with 10 is 2.6549365793190347e-15\n",
            "Norm of difference for the state associated with 11 is 3.539207232753167e-15\n",
            "Norm of difference for the state associated with 12 is 4.6807436717309964e-15\n",
            "Norm of difference for the state associated with 13 is 3.3342586871915224e-15\n",
            "Norm of difference for the state associated with 14 is 5.365507560291943e-15\n",
            "Norm of difference for the state associated with 15 is 3.767303537882616e-15\n"
          ],
          "name": "stdout"
        }
      ]
    },
    {
      "cell_type": "markdown",
      "metadata": {
        "id": "T-rZPix-8atW"
      },
      "source": [
        "Seeing that all the possible norm differnces are $0$, we can safely conclude that our circuit is indeed the Quantum Fourier Transform acting on $4$ qubits."
      ]
    },
    {
      "cell_type": "markdown",
      "metadata": {
        "id": "WksqMYZg8Qhm"
      },
      "source": [
        "The code snippet given below prepares and executes a Quantum Fourier Transform on any number of qubits and validates the result after that."
      ]
    },
    {
      "cell_type": "code",
      "metadata": {
        "colab": {
          "base_uri": "https://localhost:8080/"
        },
        "id": "aLhC2hxm_Wlc",
        "outputId": "a5e41eb6-bb38-4a63-e4f1-44ff15e4c61e"
      },
      "source": [
        "number_of_qubits = 3\n",
        "\n",
        "# Prepare the Fourier Transform matrix for validation later\n",
        "DFT = np.zeros((2 ** number_of_qubits,2 ** number_of_qubits)) + (1j * np.zeros((2 ** number_of_qubits,2 ** number_of_qubits)))\n",
        "for k1 in range(2 ** number_of_qubits):\n",
        "  for k2 in range(2 ** number_of_qubits):\n",
        "    DFT[k1][k2] = (1/np.sqrt(2 ** number_of_qubits)) * np.cos((2 * np.pi * k1 * k2)/2 ** number_of_qubits) + (1j * (1/np.sqrt(2 ** number_of_qubits)) * np.sin((2 * np.pi * k1 * k2)/2 ** number_of_qubits))\n",
        "\n",
        "for i in range(2 ** number_of_qubits):\n",
        "\n",
        "  # Compute the binary expansion of i\n",
        "  bin_list = Binary(i, number_of_qubits)\n",
        "\n",
        "  # Reverse the output since the last qubit is the most signifact in the circuit\n",
        "  bin_list.reverse()\n",
        "\n",
        "  # Initialize circuit \n",
        "  reg_id = create_circuit(number_of_qubits,0)\n",
        "\n",
        "  # Prepare the state associated with i\n",
        "  for j in range(number_of_qubits):\n",
        "    if bin_list[j] == 1:\n",
        "        gate(reg_id, 'X', {'q': j})\n",
        "\n",
        "  # Apply QFT\n",
        "  for j in range(number_of_qubits - 1, -1, -1):\n",
        "    gate(reg_id, 'hadamard', {'q': j})\n",
        "    for k in range(j-1, -1, -1):\n",
        "      gate(reg_id, 'cphase', {'q_control': k, 'q_target': j, 'theta': np.pi/(2 ** (j-k))})\n",
        "\n",
        "  for j in range(number_of_qubits):\n",
        "    if j < number_of_qubits - j - 1:\n",
        "      gate(reg_id, 'cnot', {'q_control': j, 'q_target': number_of_qubits-1-j})\n",
        "      gate(reg_id, 'cnot', {'q_control': number_of_qubits-1-j, 'q_target': j})\n",
        "      gate(reg_id, 'cnot', {'q_control': j, 'q_target': number_of_qubits-1-j})\n",
        "\n",
        "  # Extract the statevector\n",
        "  statevector = np.zeros(2 ** number_of_qubits) + (1j * np.zeros(2 ** number_of_qubits))\n",
        "  for j in range(2 ** number_of_qubits):\n",
        "    statevector[j] = print_vector(reg_id)[j]['complex_value']['re'] + (1j * print_vector(reg_id)[j]['complex_value']['im'])\n",
        "\n",
        "  # Display the norm of difference\n",
        "  print(\"Norm of difference for the state associated with {} is {}\".format(i, np.linalg.norm(statevector - DFT[:,i])))\n",
        "\n",
        "  # Destroy the circuit\n",
        "  destroy_circuit(reg_id)\n",
        "\n",
        "  # Give TheQ a break\n",
        "  time.sleep(10)\n"
      ],
      "execution_count": null,
      "outputs": [
        {
          "output_type": "stream",
          "text": [
            "Norm of difference for the state associated with 0 is 1.5700924586837752e-16\n",
            "Norm of difference for the state associated with 1 is 2.2181376455079022e-16\n",
            "Norm of difference for the state associated with 2 is 2.7774717943000184e-16\n",
            "Norm of difference for the state associated with 3 is 5.676479939535573e-16\n",
            "Norm of difference for the state associated with 4 is 5.358263387087105e-16\n",
            "Norm of difference for the state associated with 5 is 1.276148583654803e-15\n",
            "Norm of difference for the state associated with 6 is 1.0944265166593505e-15\n",
            "Norm of difference for the state associated with 7 is 1.620681331014975e-15\n"
          ],
          "name": "stdout"
        }
      ]
    }
  ]
}