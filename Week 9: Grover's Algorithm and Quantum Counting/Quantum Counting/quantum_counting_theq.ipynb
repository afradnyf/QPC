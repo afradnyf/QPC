{
  "nbformat": 4,
  "nbformat_minor": 0,
  "metadata": {
    "colab": {
      "name": "quantum_counting_theq.ipynb",
      "provenance": [],
      "collapsed_sections": []
    },
    "kernelspec": {
      "display_name": "Python 3",
      "name": "python3"
    },
    "language_info": {
      "name": "python"
    }
  },
  "cells": [
    {
      "cell_type": "markdown",
      "metadata": {
        "id": "LVAnnxdW3D1t"
      },
      "source": [
        "# Circuit implementation of quantum counting algorithm using TheQ\n",
        "\n",
        "This notebook will teach you how to construct your own circuits for quantum counting algorithm using TheQ."
      ]
    },
    {
      "cell_type": "markdown",
      "metadata": {
        "id": "cUPoEiMiAP_t"
      },
      "source": [
        "# Importing packages"
      ]
    },
    {
      "cell_type": "code",
      "metadata": {
        "id": "cEKCmwTQAVIy"
      },
      "source": [
        "# Server addresses should be stable, but may occasionally be offline\n",
        "import requests\n",
        "import json\n",
        "import math\n",
        "import numpy as np # For playing around with pi\n",
        "import matplotlib.pyplot as plt # For plotting functions\n",
        "from google.colab import files\n",
        "\n",
        "#req_str = 'http://8b851bd5c0ec.ngrok.io/qsim/perform_operation'\n",
        "req_str = 'http://8fc11588c850.ngrok.io/qsim/perform_operation'\n",
        "#req_str_qasm = 'http://8b851bd5c0ec.ngrok.io/qsim/qasm'\n",
        "req_str_qasm = 'http://8fc11588c850.ngrok.io/qsim/qasm'"
      ],
      "execution_count": null,
      "outputs": []
    },
    {
      "cell_type": "markdown",
      "metadata": {
        "id": "-mfutxaLYhG9"
      },
      "source": [
        "# Required functions"
      ]
    },
    {
      "cell_type": "markdown",
      "metadata": {
        "id": "JciSore-Yyyt"
      },
      "source": [
        "These are some required functions to run any circuit in TheQ."
      ]
    },
    {
      "cell_type": "code",
      "metadata": {
        "id": "LeOzUD5HY4SA"
      },
      "source": [
        "# Define Create ciruit (these are the four core definitions for any circuit)\n",
        "# all circuits must be bookmarked by the create_circuit and destroy_circuit command\n",
        "\n",
        "# Initial_state is a binary integer to initalise all qubit, \n",
        "# most often initial_state=0.\n",
        "def create_circuit(qubits,initial_state):\n",
        "    data = {\n",
        "        'operation': 'create_circuit',\n",
        "        'num_qubits': qubits\n",
        "    }\n",
        "    result = requests.post(req_str, json=data)\n",
        "    json_obj = json.loads(result.content)\n",
        "    reg_id = json_obj['result']\n",
        "\n",
        "    data = {\n",
        "        'operation': 'set_state',\n",
        "        'register': reg_id,\n",
        "        'state': initial_state,\n",
        "        'complex_value': {'re': 1, 'im': 0}\n",
        "    }\n",
        "    result = requests.post(req_str, json=data)\n",
        "    return reg_id\n",
        "\n",
        "# Gates.  gate_name and params are specified from the list above\n",
        "def gate(register_id, gate_name, params):\n",
        "    data = {\n",
        "        'operation': 'gate',\n",
        "        'register': register_id,\n",
        "        'gate': gate_name\n",
        "    }\n",
        "    for k in params.keys():\n",
        "        data[k] = params[k]\n",
        "    result = requests.post(req_str, json=data)\n",
        "    json_obj=json.loads(result.content)\n",
        "    return json_obj['result']\n",
        "\n",
        "# params contain an array of qubit numbers to measure, 'lq2m': [0,1,3] would measure qubits 0, 1 and 3 and return the \n",
        "# corresponding 3-bit integer value from 0 to 7.\n",
        "def measure_qubit(register_id, params):\n",
        "    data = {\n",
        "        'operation': 'measure', \n",
        "        'register': register_id,\n",
        "    }\n",
        "    for k in params.keys():\n",
        "        data[k] = params[k]\n",
        "    result = requests.post(req_str, json=data)\n",
        "\n",
        "    json_obj = json.loads(result.content)\n",
        "    return json_obj['result']\n",
        "\n",
        "# Always call destroy_circuit to terminate simulation (turn off your QC)\n",
        "def destroy_circuit(register_id):\n",
        "  data = {\n",
        "        'operation': 'destroy_circuit', \n",
        "        'register': register_id\n",
        "  }\n",
        "  result = requests.post(req_str, json=data)\n",
        "\n",
        "# Print allows you to output the current computational state of the machine.\n",
        "def print_vector(register_id):\n",
        "  data = {\n",
        "        'operation': 'state_vector', \n",
        "        'register': register_id\n",
        "  }\n",
        "  result = requests.post(req_str, json=data)\n",
        "  json_obj = json.loads(result.content)\n",
        "  return json_obj['result']\n",
        "\n",
        "def Toffoli(q0, q1, q2):\n",
        "  gate(reg_id, 'hadamard', {'q': q2})\n",
        "  gate(reg_id, 'cnot', {'q_control': q1, 'q_target': q2})\n",
        "  gate(reg_id, 'zrot', {'q': q2, 'theta': np.pi/4})\n",
        "  gate(reg_id, 'cnot', {'q_control': q0, 'q_target': q2})\n",
        "  gate(reg_id, 'zrot', {'q': q2, 'theta': -np.pi/4})\n",
        "  gate(reg_id, 'cnot', {'q_control': q1, 'q_target': q2})\n",
        "  gate(reg_id, 'zrot', {'q': q2, 'theta': np.pi/4})\n",
        "  gate(reg_id, 'cnot', {'q_control': q0, 'q_target': q2})\n",
        "  gate(reg_id, 'zrot', {'q': q1, 'theta': np.pi/4})\n",
        "  gate(reg_id, 'zrot', {'q': q2, 'theta': -np.pi/4})\n",
        "  gate(reg_id, 'cnot', {'q_control': q0, 'q_target': q1})\n",
        "  gate(reg_id, 'zrot', {'q': q1, 'theta': np.pi/4})\n",
        "  gate(reg_id, 'hadamard', {'q': q2})\n",
        "  gate(reg_id, 'cnot', {'q_control': q0, 'q_target': q1})\n",
        "  gate(reg_id, 'zrot', {'q': q0, 'theta': -np.pi/4})\n",
        "  gate(reg_id, 'zrot', {'q': q1, 'theta': -np.pi/2})\n",
        "\n",
        "def controlled_hadamard(control_qubit, target_qubit):\n",
        "  gate(reg_id, 'zrot', {'q': target_qubit, 'theta': -np.pi/2})\n",
        "  gate(reg_id, 'zrot', {'q': target_qubit, 'theta': -np.pi/4})\n",
        "  gate(reg_id, 'cnot', {'q_control': control_qubit, 'q_target': target_qubit})\n",
        "  gate(reg_id, 'zrot', {'q': target_qubit, 'theta': np.pi/4})\n",
        "  gate(reg_id, 'yrot', {'q': target_qubit, 'theta': np.pi/4})\n",
        "  gate(reg_id, 'cnot', {'q_control': control_qubit, 'q_target': target_qubit})\n",
        "  gate(reg_id, 'yrot', {'q': target_qubit, 'theta': -np.pi/4})\n",
        "  gate(reg_id, 'zrot', {'q': control_qubit, 'theta': -np.pi/2})\n"
      ],
      "execution_count": null,
      "outputs": []
    },
    {
      "cell_type": "markdown",
      "metadata": {
        "id": "9yZas5Sm_LJR"
      },
      "source": [
        "#The circuit"
      ]
    },
    {
      "cell_type": "markdown",
      "metadata": {
        "id": "bexok8eV_OJE"
      },
      "source": [
        "Now we move on to the main part of the notebook. In this section, we shall explain the construction of quantum counting circuits. The problem setting is as follows; let $f: \\{ 0, 1, \\dots, N-1\\} \\rightarrow \\{ 0, 1\\}$. Our objective is to count the number of distinct elements $\\omega$ in the domain such that $f(\\omega)=1$, with minimum number of queries to the function $f$. The quantum counting algorithm solves the problem by combining Grover's search and phase estimation algorithm. Let $G$ be the Grover iterate, that is, $G=U_s U_{\\omega}$. The quantum counting circuit is nothing but phase estimation carries out with the operator $G$, and the state $|+\\rangle ^ {\\otimes \\log N}$ prepare in the register where the eigenvectors are prepared. So, the final circuit, with precision of $t$ qubits, is as follows: "
      ]
    },
    {
      "cell_type": "markdown",
      "metadata": {
        "id": "dt99N09VRGjA"
      },
      "source": [
        "From the measurement output $\\phi$, first we compute the eigenvalue of $G$, which is $\\lambda =  \\frac{2 \\pi \\phi}{2 ^ t}$. The approximation of the number of satisfiable elements in the domain is given as $N \\sin ^ 2 \\lambda$."
      ]
    },
    {
      "cell_type": "markdown",
      "metadata": {
        "id": "jqKZabxifB1w"
      },
      "source": [
        "# Example 1"
      ]
    },
    {
      "cell_type": "markdown",
      "metadata": {
        "id": "UOIt1jDmD12T"
      },
      "source": [
        "In this example, consider the function $f: \\{ 0,1,2,3\\} \\rightarrow \\{ 0,1\\} $ given as\n",
        "\n",
        "\\begin{equation}\n",
        "  f(x) = \n",
        "  \\begin{cases}\n",
        "    1 & \\text{ if }x = 1 \\ \\& \\ x = 3 \\\\\n",
        "    0 & \\text{ otherwise }\n",
        "  \\end{cases}\n",
        "\\end{equation}\n",
        "\n",
        "This function has two satisfiable solutions $1$ and $3$. In this case $U_{\\omega}$ should be an operator of the form\n",
        "\n",
        "\\begin{equation}\n",
        "  U|x_1 x_2\\rangle = \n",
        "  \\begin{cases}\n",
        "    -|x_1 x_2 \\rangle & \\text{ if }x_1 = 1 \\\\\n",
        "    |x_1 x_2 \\rangle & \\text{ otherwise }\n",
        "  \\end{cases}\n",
        "\\end{equation}\n",
        "\n",
        "This is actually a $Z$ gate applied on the qubit $x_1$.\n"
      ]
    },
    {
      "cell_type": "markdown",
      "metadata": {
        "id": "_LqfMjCeg3Vu"
      },
      "source": [
        "One can see that the operator $U_s$ does not depend on the function $f$ and it depends only on $N$. When $N=4$ ($2$-qubit case), the circuit for $U_s$ can be seen as\n",
        "\n",
        "![grover_us_2q1.png](data:image/png;base64,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)"
      ]
    },
    {
      "cell_type": "markdown",
      "metadata": {
        "id": "DRAQ9FnmhGXT"
      },
      "source": [
        "Then, with $2$-qubits in the first register, the final circuit will have the form\n",
        "\n",
        "![quantum_counting_actual_full.png](data:image/png;base64,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)"
      ]
    },
    {
      "cell_type": "markdown",
      "metadata": {
        "id": "m5TQPoT4GEVn"
      },
      "source": [
        "Now, we move on to constructing this circuit using TheQ."
      ]
    },
    {
      "cell_type": "markdown",
      "metadata": {
        "id": "FLoEAg82H4Oy"
      },
      "source": [
        "Since the circuit contains $4$ qubits, we create a circuit with $4$ qubits."
      ]
    },
    {
      "cell_type": "code",
      "metadata": {
        "id": "uEMgt7b_KbPd"
      },
      "source": [
        "  # Prepare the circuit\n",
        "  reg_id = create_circuit(4,0)"
      ],
      "execution_count": null,
      "outputs": []
    },
    {
      "cell_type": "markdown",
      "metadata": {
        "id": "lCJ1jp7FM4v4"
      },
      "source": [
        "Now, we shall start applying the gates."
      ]
    },
    {
      "cell_type": "markdown",
      "metadata": {
        "id": "Qi7uI405M-H-"
      },
      "source": [
        "Apply Hadamard gates on all qubits"
      ]
    },
    {
      "cell_type": "code",
      "metadata": {
        "id": "kkWnSuexM6I4"
      },
      "source": [
        "# Apply Hadamard gate on all qubits\n",
        "for i in range(4):\n",
        "  gate(reg_id, 'hadamard', {'q': i})"
      ],
      "execution_count": null,
      "outputs": []
    },
    {
      "cell_type": "markdown",
      "metadata": {
        "id": "4SrafpFmNRVC"
      },
      "source": [
        "Now, we shall start applying controlled-$G ^ {2 ^ j}$ gates."
      ]
    },
    {
      "cell_type": "code",
      "metadata": {
        "id": "HsbzR7grNaQw"
      },
      "source": [
        "for control_qubit in range(2):\n",
        "  for j in range(2 ** control_qubit):\n",
        "\n",
        "    # Apply controlled-U_s\n",
        "    gate(reg_id, 'hadamard', {'q': 3})\n",
        "    gate(reg_id, 'cnot', {'q_control': control_qubit, 'q_target': 3})\n",
        "    gate(reg_id, 'hadamard', {'q': 3})\n",
        "\n",
        "    # Apply controlled-U_w\n",
        "    controlled_hadamard(control_qubit, 2)\n",
        "    controlled_hadamard(control_qubit, 3)            \n",
        "\n",
        "    gate(reg_id, 'hadamard', {'q': 2})\n",
        "    gate(reg_id, 'cnot', {'q_control': control_qubit, 'q_target': 2})\n",
        "    gate(reg_id, 'hadamard', {'q': 2})\n",
        "\n",
        "    gate(reg_id, 'hadamard', {'q': 3})\n",
        "    gate(reg_id, 'cnot', {'q_control': control_qubit, 'q_target': 3})\n",
        "    gate(reg_id, 'hadamard', {'q': 3})\n",
        "\n",
        "    gate(reg_id, 'hadamard', {'q': 3})\n",
        "    Toffoli(control_qubit, 2, 3)\n",
        "    gate(reg_id, 'hadamard', {'q': 3})\n",
        "    \n",
        "    controlled_hadamard(control_qubit, 2)\n",
        "    controlled_hadamard(control_qubit, 3)\n"
      ],
      "execution_count": null,
      "outputs": []
    },
    {
      "cell_type": "markdown",
      "metadata": {
        "id": "2N3fsaChifuh"
      },
      "source": [
        "The next part is the inverse quantum Fourier transform part."
      ]
    },
    {
      "cell_type": "code",
      "metadata": {
        "id": "E0z-jktzijuo"
      },
      "source": [
        "# Apply swap gates\n",
        "gate(reg_id, 'cnot', {'q_control': 0, 'q_target': 1})\n",
        "gate(reg_id, 'cnot', {'q_control': 1, 'q_target': 0})\n",
        "gate(reg_id, 'cnot', {'q_control': 0, 'q_target': 1})\n",
        "\n",
        "# Apply controlled-Rk inverse gates\n",
        "for target_qubit in range(2):\n",
        "  for control_qubit in range(target_qubit):\n",
        "    gate(reg_id, 'cphase', {'q_control': control_qubit, 'q_target': target_qubit, 'theta': -np.pi/float(2**(target_qubit-control_qubit))})\n",
        "  gate(reg_id, 'hadamard', {'q': target_qubit})\n"
      ],
      "execution_count": null,
      "outputs": []
    },
    {
      "cell_type": "markdown",
      "metadata": {
        "id": "i8HineVpin9F"
      },
      "source": [
        "Now, we shall measure, simulate the circuit $100$ times and analyze the result."
      ]
    },
    {
      "cell_type": "code",
      "metadata": {
        "id": "auPfW_6Bg678"
      },
      "source": [
        "# Measure the qubits 0,1\n",
        "c0 = measure_qubit(reg_id,{'lq2m': list(range(1,-1,-1))})\n",
        "print(c0)\n",
        "\n",
        "# Destroy circuit\n",
        "destroy_circuit(reg_id)"
      ],
      "execution_count": null,
      "outputs": []
    },
    {
      "cell_type": "code",
      "metadata": {
        "id": "BksEVekfhU6z"
      },
      "source": [
        "i = 0\n",
        "results = {}"
      ],
      "execution_count": null,
      "outputs": []
    },
    {
      "cell_type": "code",
      "metadata": {
        "colab": {
          "base_uri": "https://localhost:8080/",
          "height": 312
        },
        "id": "MXYW-4zAiv0O",
        "outputId": "218959a2-4f04-4997-e0a6-cec91339c5d2"
      },
      "source": [
        "while i < 100:\n",
        "\n",
        "  # Prepare the circuit\n",
        "  reg_id = create_circuit(4,0)\n",
        "\n",
        "  # Apply Hadamard gate on all qubits\n",
        "  for i in range(4):\n",
        "    gate(reg_id, 'hadamard', {'q': i})\n",
        "\n",
        "  for control_qubit in range(2):\n",
        "    for j in range(2 ** control_qubit):\n",
        "\n",
        "      # Apply controlled-U_s\n",
        "      gate(reg_id, 'hadamard', {'q': 3})\n",
        "      gate(reg_id, 'cnot', {'q_control': control_qubit, 'q_target': 3})\n",
        "      gate(reg_id, 'hadamard', {'q': 3})\n",
        "\n",
        "      # Apply controlled-U_w\n",
        "      controlled_hadamard(control_qubit, 2)\n",
        "      controlled_hadamard(control_qubit, 3)            \n",
        "\n",
        "      gate(reg_id, 'hadamard', {'q': 2})\n",
        "      gate(reg_id, 'cnot', {'q_control': control_qubit, 'q_target': 2})\n",
        "      gate(reg_id, 'hadamard', {'q': 2})\n",
        "\n",
        "      gate(reg_id, 'hadamard', {'q': 3})\n",
        "      gate(reg_id, 'cnot', {'q_control': control_qubit, 'q_target': 3})\n",
        "      gate(reg_id, 'hadamard', {'q': 3})\n",
        "\n",
        "      gate(reg_id, 'hadamard', {'q': 3})\n",
        "      Toffoli(control_qubit, 2, 3)\n",
        "      gate(reg_id, 'hadamard', {'q': 3})\n",
        "      \n",
        "      controlled_hadamard(control_qubit, 2)\n",
        "      controlled_hadamard(control_qubit, 3)\n",
        "      \n",
        "  # Apply swap gates\n",
        "  gate(reg_id, 'cnot', {'q_control': 0, 'q_target': 1})\n",
        "  gate(reg_id, 'cnot', {'q_control': 1, 'q_target': 0})\n",
        "  gate(reg_id, 'cnot', {'q_control': 0, 'q_target': 1})\n",
        "\n",
        "  # Apply controlled-Rk inverse gates\n",
        "  for target_qubit in range(2):\n",
        "    for control_qubit in range(target_qubit):\n",
        "      gate(reg_id, 'cphase', {'q_control': control_qubit, 'q_target': target_qubit, 'theta': -np.pi/float(2**(target_qubit-control_qubit))})\n",
        "    gate(reg_id, 'hadamard', {'q': target_qubit})\n",
        "\n",
        "  c0 = measure_qubit(reg_id,{'lq2m': list(range(1,-1,-1))})\n",
        "  \n",
        "\n",
        "  try:\n",
        "    results[c0] += 1\n",
        "  except KeyError:\n",
        "    results[c0] = 1\n",
        "\n",
        "  destroy_circuit(reg_id)\n",
        "  i += 1\n",
        "\n",
        "  "
      ],
      "execution_count": null,
      "outputs": [
        {
          "output_type": "execute_result",
          "data": {
            "text/plain": [
              "<matplotlib.axes._subplots.AxesSubplot at 0x7fcd69ea3110>"
            ]
          },
          "metadata": {
            "tags": []
          },
          "execution_count": 37
        },
        {
          "output_type": "display_data",
          "data": {
            "image/png": "[encoded data removed]",
            "text/plain": [
              "<Figure size 432x288 with 1 Axes>"
            ]
          },
          "metadata": {
            "tags": []
          }
        }
      ]
    },
    {
      "cell_type": "code",
      "metadata": {
        "id": "vyjHi9qAhZwG"
      },
      "source": [
        "# Plot the results \n",
        "f =plt.figure()\n",
        "plt.plot(x, y)\n",
        "f.set_figwidth(20)\n",
        "f.set_figheight(5)\n",
        "plt.bar(results.keys(), results.values(), color='g')\n",
        "plt.xticks(list(range(16)))\n",
        "plt.show()"
      ],
      "execution_count": null,
      "outputs": []
    },
    {
      "cell_type": "markdown",
      "metadata": {
        "id": "BnfoaQx0jWFD"
      },
      "source": [
        "The outputs $1$ and $3$ seem to be equally probable, Now, compute the number of satisfiable elements in the domain from the outputs, in both cases."
      ]
    },
    {
      "cell_type": "code",
      "metadata": {
        "colab": {
          "base_uri": "https://localhost:8080/"
        },
        "id": "K9EyNjU5jVI9",
        "outputId": "5dfb85e7-25f9-45ee-9bdf-fc99123a4490"
      },
      "source": [
        "print(\"Value suggested by output 1: {}\".format(4 * (np.sin(1 * np.pi/4) ** 2)))\n",
        "print(\"Value suggested by output 3: {}\".format(4 * (np.sin(3 * np.pi/4) ** 2)))"
      ],
      "execution_count": null,
      "outputs": [
        {
          "output_type": "stream",
          "text": [
            "Value suggested by output 1: 1.9999999999999996\n",
            "Value suggested by output 3: 2.0000000000000004\n"
          ],
          "name": "stdout"
        }
      ]
    },
    {
      "cell_type": "markdown",
      "metadata": {
        "id": "9kcIE1GDNfFb"
      },
      "source": [
        "Both measurement outputs point to the correct answer $2$."
      ]
    },
    {
      "cell_type": "markdown",
      "metadata": {
        "id": "3xq4V1Zfkait"
      },
      "source": [
        "# Example 2"
      ]
    },
    {
      "cell_type": "markdown",
      "metadata": {
        "id": "Q77y2GKMkduy"
      },
      "source": [
        "In this example, consider the function $f: \\{ 0,1,2,3\\} \\rightarrow \\{ 0,1\\} $ given as\n",
        "\n",
        "\\begin{equation}\n",
        "  f(x) = \n",
        "  \\begin{cases}\n",
        "    1 & \\text{ if }x = 3 \\\\\n",
        "    0 & \\text{ otherwise }\n",
        "  \\end{cases}\n",
        "\\end{equation}\n",
        "\n",
        "This function has one satisfiable solution $3$. In this case $U_{\\omega}$ should be an operator of the form\n",
        "\n",
        "\\begin{equation}\n",
        "  U|x_1 x_2\\rangle = \n",
        "  \\begin{cases}\n",
        "    -|x_1 x_2 \\rangle & \\text{ if }x_1 = 1 \\ \\& \\ x_2 = 1\\\\\n",
        "    |x_1 x_2 \\rangle & \\text{ otherwise }\n",
        "  \\end{cases}\n",
        "\\end{equation}\n",
        "\n",
        "This is the controlled-$Z$ gate. Since $U_s$ does not depend upon $f$, we can use the same $U_s$ used in the previous case.\n"
      ]
    },
    {
      "cell_type": "markdown",
      "metadata": {
        "id": "LK9yCKCvlb3z"
      },
      "source": [
        "## $3$-qubit precision"
      ]
    },
    {
      "cell_type": "markdown",
      "metadata": {
        "id": "qsB1bOw1lMc_"
      },
      "source": [
        "In this section, we carry out the quantum counting circuit, with $3$-qubit precision. `"
      ]
    },
    {
      "cell_type": "code",
      "metadata": {
        "colab": {
          "base_uri": "https://localhost:8080/",
          "height": 312
        },
        "id": "UEtUyZAHl-nz",
        "outputId": "14302f8d-3edb-4a08-b0e3-c486fd530ca7"
      },
      "source": [
        "while i < 100:\n",
        "\n",
        "  # Prepare the circuit\n",
        "  reg_id = create_circuit(5,0)\n",
        "\n",
        "  # Apply Hadamard gate on all qubits\n",
        "  for i in range(5):\n",
        "    gate(reg_id, 'hadamard', {'q': i})\n",
        "\n",
        "  for control_qubit in range(3):\n",
        "    for j in range(2 ** control_qubit):\n",
        "\n",
        "      # Apply controlled-U_s\n",
        "      gate(reg_id, 'hadamard', {'q': 4})\n",
        "      Toffoli(control_qubit, 3, 4)\n",
        "      gate(reg_id, 'hadamard', {'q': 4})\n",
        "\n",
        "      # Apply controlled-U_w\n",
        "      controlled_hadamard(control_qubit, 3)\n",
        "      controlled_hadamard(control_qubit, 4)            \n",
        "\n",
        "      gate(reg_id, 'hadamard', {'q': 3})\n",
        "      gate(reg_id, 'cnot', {'q_control': control_qubit, 'q_target': 3})\n",
        "      gate(reg_id, 'hadamard', {'q': 3})\n",
        "\n",
        "      gate(reg_id, 'hadamard', {'q': 4})\n",
        "      gate(reg_id, 'cnot', {'q_control': control_qubit, 'q_target': 4})\n",
        "      gate(reg_id, 'hadamard', {'q': 4})\n",
        "\n",
        "      gate(reg_id, 'hadamard', {'q': 4})\n",
        "      Toffoli(control_qubit, 3, 4)\n",
        "      gate(reg_id, 'hadamard', {'q': 4})\n",
        "      \n",
        "      controlled_hadamard(control_qubit, 3)\n",
        "      controlled_hadamard(control_qubit, 4)\n",
        "      \n",
        "  # Apply QFT\n",
        "  # Apply swap gates\n",
        "  gate(reg_id, 'cnot', {'q_control': 0, 'q_target': 2})\n",
        "  gate(reg_id, 'cnot', {'q_control': 2, 'q_target': 0})\n",
        "  gate(reg_id, 'cnot', {'q_control': 0, 'q_target': 2})\n",
        "\n",
        "  # Apply controlled-Rk inverse gates\n",
        "  for target_qubit in range(3):\n",
        "    for control_qubit in range(target_qubit):\n",
        "      gate(reg_id, 'cphase', {'q_control': control_qubit, 'q_target': target_qubit, 'theta': -np.pi/float(2**(target_qubit-control_qubit))})\n",
        "    gate(reg_id, 'hadamard', {'q': target_qubit})\n",
        "\n",
        "  c0 = measure_qubit(reg_id,{'lq2m': list(range(2,-1,-1))})\n",
        "  \n",
        "\n",
        "  try:\n",
        "    results[c0] += 1\n",
        "  except KeyError:\n",
        "    results[c0] = 1\n",
        "\n",
        "\n",
        "  destroy_circuit(reg_id)\n",
        "  i += 1\n",
        "\n",
        "  "
      ],
      "execution_count": null,
      "outputs": [
        {
          "output_type": "execute_result",
          "data": {
            "text/plain": [
              "<matplotlib.axes._subplots.AxesSubplot at 0x7fcd6a1b2dd0>"
            ]
          },
          "metadata": {
            "tags": []
          },
          "execution_count": 38
        },
        {
          "output_type": "display_data",
          "data": {
            "image/png": "[encoded data removed]",
            "text/plain": [
              "<Figure size 432x288 with 1 Axes>"
            ]
          },
          "metadata": {
            "tags": []
          }
        }
      ]
    },
    {
      "cell_type": "markdown",
      "metadata": {
        "id": "3eZtUoI7na-2"
      },
      "source": [
        "The outputs $1$ and $7$ seem to occur most and equally probable, Now, compute the number of satisfiable elements in the domain from the outputs, in both cases."
      ]
    },
    {
      "cell_type": "code",
      "metadata": {
        "colab": {
          "base_uri": "https://localhost:8080/"
        },
        "id": "3BTjLDo9nXFJ",
        "outputId": "9819aedc-e559-44fa-8270-39a42f8977ff"
      },
      "source": [
        "print(\"Value suggested by output 1: {}\".format(4 * (np.sin(1 * np.pi/8) ** 2)))\n",
        "print(\"Value suggested by output 7: {}\".format(4 * (np.sin(7 * np.pi/8) ** 2)))"
      ],
      "execution_count": null,
      "outputs": [
        {
          "output_type": "stream",
          "text": [
            "Value suggested by output 1: 0.585786437626905\n",
            "Value suggested by output 7: 0.5857864376269053\n"
          ],
          "name": "stdout"
        }
      ]
    },
    {
      "cell_type": "markdown",
      "metadata": {
        "id": "OFgQ99MinoKa"
      },
      "source": [
        "In this case, we are approximately $0.42$ away from the correct answer $1$. Let's see if we can closer to the correct answer by adding more qubits for precision."
      ]
    },
    {
      "cell_type": "markdown",
      "metadata": {
        "id": "70vuenetp-CK"
      },
      "source": [
        "## $4$-qubit precision"
      ]
    },
    {
      "cell_type": "markdown",
      "metadata": {
        "id": "bAjtKnqHn5he"
      },
      "source": [
        "In the next cell, we run the same phase estimation with $4$ qubit precision."
      ]
    },
    {
      "cell_type": "code",
      "metadata": {
        "colab": {
          "base_uri": "https://localhost:8080/",
          "height": 312
        },
        "id": "shrMWauZnmrX",
        "outputId": "45332f32-1500-4806-9864-6b60441c7a9b"
      },
      "source": [
        "while i < 100:\n",
        "\n",
        "  # Prepare the circuit\n",
        "  reg_id = create_circuit(6,0)\n",
        "\n",
        "  # Apply Hadamard gate on all qubits\n",
        "  for i in range(6):\n",
        "    gate(reg_id, 'hadamard', {'q': i})\n",
        "\n",
        "  for control_qubit in range(4):\n",
        "    for j in range(2 ** control_qubit):\n",
        "\n",
        "      # Apply controlled-U_s\n",
        "      gate(reg_id, 'hadamard', {'q': 5})\n",
        "      Toffoli(control_qubit, 4, 5)\n",
        "      gate(reg_id, 'hadamard', {'q': 5})\n",
        "\n",
        "      # Apply controlled-U_w\n",
        "      controlled_hadamard(control_qubit, 4)\n",
        "      controlled_hadamard(control_qubit, 5)            \n",
        "\n",
        "      gate(reg_id, 'hadamard', {'q': 4})\n",
        "      gate(reg_id, 'cnot', {'q_control': control_qubit, 'q_target': 4})\n",
        "      gate(reg_id, 'hadamard', {'q': 4})\n",
        "\n",
        "      gate(reg_id, 'hadamard', {'q': 5})\n",
        "      gate(reg_id, 'cnot', {'q_control': control_qubit, 'q_target': 5})\n",
        "      gate(reg_id, 'hadamard', {'q': 5})\n",
        "\n",
        "      gate(reg_id, 'hadamard', {'q': 5})\n",
        "      Toffoli(control_qubit, 4, 5)\n",
        "      gate(reg_id, 'hadamard', {'q': 5})\n",
        "      \n",
        "      controlled_hadamard(control_qubit, 4)\n",
        "      controlled_hadamard(control_qubit, 5)\n",
        "      \n",
        "  # Apply QFT\n",
        "  # Apply swap gates\n",
        "  gate(reg_id, 'cnot', {'q_control': 0, 'q_target': 3})\n",
        "  gate(reg_id, 'cnot', {'q_control': 3, 'q_target': 0})\n",
        "  gate(reg_id, 'cnot', {'q_control': 0, 'q_target': 3})\n",
        "\n",
        "  gate(reg_id, 'cnot', {'q_control': 1, 'q_target': 2})\n",
        "  gate(reg_id, 'cnot', {'q_control': 2, 'q_target': 1})\n",
        "  gate(reg_id, 'cnot', {'q_control': 1, 'q_target': 2})\n",
        "\n",
        "  # Apply controlled-Rk inverse gates\n",
        "  for target_qubit in range(4):\n",
        "    for control_qubit in range(target_qubit):\n",
        "      gate(reg_id, 'cphase', {'q_control': control_qubit, 'q_target': target_qubit, 'theta': -np.pi/float(2**(target_qubit-control_qubit))})\n",
        "    gate(reg_id, 'hadamard', {'q': target_qubit})\n",
        "\n",
        "  c0 = measure_qubit(reg_id,{'lq2m': list(range(3,-1,-1))})\n",
        "  \n",
        "\n",
        "  try:\n",
        "    results[c0] += 1\n",
        "  except KeyError:\n",
        "    results[c0] = 1\n",
        "\n",
        "\n",
        "  destroy_circuit(reg_id)\n",
        "  i += 1\n",
        "\n",
        "  "
      ],
      "execution_count": null,
      "outputs": [
        {
          "output_type": "execute_result",
          "data": {
            "text/plain": [
              "<matplotlib.axes._subplots.AxesSubplot at 0x7fcd69c98d10>"
            ]
          },
          "metadata": {
            "tags": []
          },
          "execution_count": 40
        },
        {
          "output_type": "display_data",
          "data": {
            "image/png": "[encoded data removed]",
            "text/plain": [
              "<Figure size 432x288 with 1 Axes>"
            ]
          },
          "metadata": {
            "tags": []
          }
        }
      ]
    },
    {
      "cell_type": "markdown",
      "metadata": {
        "id": "RpdsqUf6pWsk"
      },
      "source": [
        "The outputs $3$ and $13$ seem to occur most and equally probable, Now, compute the number of satisfiable elements in the domain from the outputs, in both cases."
      ]
    },
    {
      "cell_type": "code",
      "metadata": {
        "colab": {
          "base_uri": "https://localhost:8080/"
        },
        "id": "zzYvcV2lphto",
        "outputId": "f90f0cf6-fd20-4e66-cbe7-d56ba22d87fc"
      },
      "source": [
        "print(\"Value suggested by output 1: {}\".format(4 * (np.sin(3 * np.pi/16) ** 2)))\n",
        "print(\"Value suggested by output 7: {}\".format(4 * (np.sin(13 * np.pi/16) ** 2)))"
      ],
      "execution_count": null,
      "outputs": [
        {
          "output_type": "stream",
          "text": [
            "Value suggested by output 1: 1.2346331352698203\n",
            "Value suggested by output 7: 1.2346331352698203\n"
          ],
          "name": "stdout"
        }
      ]
    },
    {
      "cell_type": "markdown",
      "metadata": {
        "id": "HBYjrUptp28P"
      },
      "source": [
        "In this case, we are approximately $0.23$ away from the correct answer $1$. Let's see if we can closer to the correct answer by adding more qubits for precision."
      ]
    },
    {
      "cell_type": "markdown",
      "metadata": {
        "id": "ODFkAwnfqI-r"
      },
      "source": [
        "##$5$-qubit precision"
      ]
    },
    {
      "cell_type": "markdown",
      "metadata": {
        "id": "Sn-teetnqJPk"
      },
      "source": [
        "In the next cell, we run the same phase estimation with $5$ qubit precision."
      ]
    },
    {
      "cell_type": "code",
      "metadata": {
        "colab": {
          "base_uri": "https://localhost:8080/",
          "height": 312
        },
        "id": "NxXwycGTqRN4",
        "outputId": "0ae77aaf-db0b-44a5-c25f-d207334ce8dc"
      },
      "source": [
        "while i < 100:\n",
        "\n",
        "  # Prepare the circuit\n",
        "  reg_id = create_circuit(7,0)\n",
        "\n",
        "  # Apply Hadamard gate on all qubits\n",
        "  for i in range(7):\n",
        "    gate(reg_id, 'hadamard', {'q': i})\n",
        "\n",
        "  for control_qubit in range(5):\n",
        "    for j in range(2 ** control_qubit):\n",
        "\n",
        "      # Apply controlled-U_s\n",
        "      gate(reg_id, 'hadamard', {'q': 6})\n",
        "      Toffoli(control_qubit, 5, 6)\n",
        "      gate(reg_id, 'hadamard', {'q': 6})\n",
        "\n",
        "      # Apply controlled-U_w\n",
        "      controlled_hadamard(control_qubit, 5)\n",
        "      controlled_hadamard(control_qubit, 6)            \n",
        "\n",
        "      gate(reg_id, 'hadamard', {'q': 5})\n",
        "      gate(reg_id, 'cnot', {'q_control': control_qubit, 'q_target': 5})\n",
        "      gate(reg_id, 'hadamard', {'q': 5})\n",
        "\n",
        "      gate(reg_id, 'hadamard', {'q': 6})\n",
        "      gate(reg_id, 'cnot', {'q_control': control_qubit, 'q_target': 6})\n",
        "      gate(reg_id, 'hadamard', {'q': 6})\n",
        "\n",
        "      gate(reg_id, 'hadamard', {'q': 6})\n",
        "      Toffoli(control_qubit, 5, 6)\n",
        "      gate(reg_id, 'hadamard', {'q': 6})\n",
        "      \n",
        "      controlled_hadamard(control_qubit, 5)\n",
        "      controlled_hadamard(control_qubit, 6)\n",
        "      \n",
        "  # Apply QFT\n",
        "  # Apply swap gates\n",
        "  gate(reg_id, 'cnot', {'q_control': 0, 'q_target': 4})\n",
        "  gate(reg_id, 'cnot', {'q_control': 4, 'q_target': 0})\n",
        "  gate(reg_id, 'cnot', {'q_control': 0, 'q_target': 4})\n",
        "\n",
        "  gate(reg_id, 'cnot', {'q_control': 1, 'q_target': 3})\n",
        "  gate(reg_id, 'cnot', {'q_control': 3, 'q_target': 1})\n",
        "  gate(reg_id, 'cnot', {'q_control': 1, 'q_target': 3})\n",
        "\n",
        "  # Apply controlled-Rk inverse gates\n",
        "  for target_qubit in range(5):\n",
        "    for control_qubit in range(target_qubit):\n",
        "      gate(reg_id, 'cphase', {'q_control': control_qubit, 'q_target': target_qubit, 'theta': -np.pi/float(2**(target_qubit-control_qubit))})\n",
        "    gate(reg_id, 'hadamard', {'q': target_qubit})\n",
        "\n",
        "  c0 = measure_qubit(reg_id,{'lq2m': list(range(4,-1,-1))})\n",
        "  \n",
        "\n",
        "  try:\n",
        "    results[c0] += 1\n",
        "  except KeyError:\n",
        "    results[c0] = 1\n",
        "\n",
        "\n",
        "  destroy_circuit(reg_id)\n",
        "  i += 1\n",
        "\n",
        "  "
      ],
      "execution_count": null,
      "outputs": [
        {
          "output_type": "execute_result",
          "data": {
            "text/plain": [
              "<matplotlib.axes._subplots.AxesSubplot at 0x7fcd69b56190>"
            ]
          },
          "metadata": {
            "tags": []
          },
          "execution_count": 42
        },
        {
          "output_type": "display_data",
          "data": {
            "image/png": "[encoded data removed]",
            "text/plain": [
              "<Figure size 432x288 with 1 Axes>"
            ]
          },
          "metadata": {
            "tags": []
          }
        }
      ]
    },
    {
      "cell_type": "markdown",
      "metadata": {
        "id": "xYbVuCUGqqG5"
      },
      "source": [
        "The outputs $5$ and $27$ seem to occur most and equally probable, Now, compute the number of satisfiable elements in the domain from the outputs, in both cases."
      ]
    },
    {
      "cell_type": "code",
      "metadata": {
        "colab": {
          "base_uri": "https://localhost:8080/"
        },
        "id": "rzuDoLguq1-g",
        "outputId": "248b849d-c216-4c6a-a02b-4ca43207bd2a"
      },
      "source": [
        "print(\"Value suggested by output 1: {}\".format(4 * (np.sin(5 * np.pi/32) ** 2)))\n",
        "print(\"Value suggested by output 7: {}\".format(4 * (np.sin(27 * np.pi/32) ** 2)))"
      ],
      "execution_count": null,
      "outputs": [
        {
          "output_type": "stream",
          "text": [
            "Value suggested by output 1: 0.8888595339607955\n",
            "Value suggested by output 7: 0.8888595339607963\n"
          ],
          "name": "stdout"
        }
      ]
    },
    {
      "cell_type": "markdown",
      "metadata": {
        "id": "WoxzZ8UJrLmx"
      },
      "source": [
        "In this case, we are approximately $0.12$ away from the correct answer $1$. "
      ]
    }
  ]
}