{
  "nbformat": 4,
  "nbformat_minor": 0,
  "metadata": {
    "colab": {
      "name": "IntroToCirq.ipynb",
      "provenance": [],
      "collapsed_sections": []
    },
    "kernelspec": {
      "name": "python3",
      "display_name": "Python 3"
    },
    "language_info": {
      "name": "python"
    }
  },
  "cells": [
    {
      "cell_type": "markdown",
      "metadata": {
        "id": "i7PR0PReCr90"
      },
      "source": [
        "# Introduction to Cirq"
      ]
    },
    {
      "cell_type": "markdown",
      "metadata": {
        "id": "e6JRk4-mCwyO"
      },
      "source": [
        "This notebook will teach you the basics of simulation of quantum circuits using Cirq. "
      ]
    },
    {
      "cell_type": "markdown",
      "metadata": {
        "id": "Kmpgm7pZDq79"
      },
      "source": [
        "# Install Cirq\n",
        "\n",
        "Install Cirq if you haven't."
      ]
    },
    {
      "cell_type": "code",
      "metadata": {
        "colab": {
          "base_uri": "https://localhost:8080/"
        },
        "id": "8ApAbS3PSHD8",
        "outputId": "a2fa7652-e9aa-4288-8be7-ea640f39fc7d"
      },
      "source": [
        "!pip install --quiet cirq"
      ],
      "execution_count": 1,
      "outputs": [
        {
          "output_type": "stream",
          "name": "stdout",
          "text": [
            "\u001b[K     |████████████████████████████████| 328 kB 8.8 MB/s \n",
            "\u001b[K     |████████████████████████████████| 47 kB 4.9 MB/s \n",
            "\u001b[K     |████████████████████████████████| 409 kB 44.0 MB/s \n",
            "\u001b[K     |████████████████████████████████| 1.5 MB 29.9 MB/s \n",
            "\u001b[K     |████████████████████████████████| 55 kB 4.3 MB/s \n",
            "\u001b[K     |████████████████████████████████| 1.3 MB 49.8 MB/s \n",
            "\u001b[K     |████████████████████████████████| 52 kB 1.7 MB/s \n",
            "\u001b[K     |████████████████████████████████| 220 kB 63.0 MB/s \n",
            "\u001b[K     |████████████████████████████████| 97 kB 6.9 MB/s \n",
            "\u001b[K     |████████████████████████████████| 49 kB 7.0 MB/s \n",
            "\u001b[K     |████████████████████████████████| 65 kB 4.2 MB/s \n",
            "\u001b[K     |████████████████████████████████| 10.1 MB 13.0 MB/s \n",
            "\u001b[K     |████████████████████████████████| 53 kB 2.7 MB/s \n",
            "\u001b[K     |████████████████████████████████| 28.5 MB 52 kB/s \n",
            "\u001b[K     |████████████████████████████████| 43 kB 2.6 MB/s \n",
            "\u001b[K     |████████████████████████████████| 229 kB 51.4 MB/s \n",
            "\u001b[K     |████████████████████████████████| 15.7 MB 124 kB/s \n",
            "\u001b[K     |████████████████████████████████| 243 kB 65.0 MB/s \n",
            "\u001b[K     |████████████████████████████████| 1.4 MB 59.3 MB/s \n",
            "\u001b[K     |████████████████████████████████| 109 kB 61.7 MB/s \n",
            "\u001b[K     |████████████████████████████████| 546 kB 30.6 MB/s \n",
            "\u001b[?25h  Building wheel for lark (setup.py) ... \u001b[?25l\u001b[?25hdone\n",
            "  Building wheel for rpcq (setup.py) ... \u001b[?25l\u001b[?25hdone\n",
            "\u001b[31mERROR: pip's dependency resolver does not currently take into account all the packages that are installed. This behaviour is the source of the following dependency conflicts.\n",
            "tensorflow 2.6.0 requires numpy~=1.19.2, but you have numpy 1.21.2 which is incompatible.\n",
            "tensorflow 2.6.0 requires six~=1.15.0, but you have six 1.16.0 which is incompatible.\n",
            "google-colab 1.0.0 requires six~=1.15.0, but you have six 1.16.0 which is incompatible.\n",
            "datascience 0.10.6 requires folium==0.2.1, but you have folium 0.8.3 which is incompatible.\n",
            "albumentations 0.1.12 requires imgaug<0.2.7,>=0.2.5, but you have imgaug 0.2.9 which is incompatible.\u001b[0m\n"
          ]
        }
      ]
    },
    {
      "cell_type": "markdown",
      "metadata": {
        "id": "u9Ihp1LlD8o7"
      },
      "source": [
        "# Importing packages"
      ]
    },
    {
      "cell_type": "code",
      "metadata": {
        "id": "pcuQNJe9TcyB"
      },
      "source": [
        "import cirq # No need to explain why\n",
        "from cirq.contrib.svg import SVGCircuit # Required to display some fancy circuits\n",
        "import numpy as np # Required to play around with pi"
      ],
      "execution_count": 2,
      "outputs": []
    },
    {
      "cell_type": "markdown",
      "metadata": {
        "id": "pQOUUYNLEQws"
      },
      "source": [
        "# Creating circuits"
      ]
    },
    {
      "cell_type": "markdown",
      "metadata": {
        "id": "0tw0zg4uETR1"
      },
      "source": [
        "How to create quantum circuits in Cirq"
      ]
    },
    {
      "cell_type": "markdown",
      "metadata": {
        "id": "TdM9SBiAEU56"
      },
      "source": [
        "## Step 1: Initialize circuit"
      ]
    },
    {
      "cell_type": "markdown",
      "metadata": {
        "id": "qWPre7HyEXFG"
      },
      "source": [
        "Prepare the quantum circuit. This requires two steps:\n",
        "1. Initialize a quantum circuit\n",
        "2. Initialize the required number of qubits"
      ]
    },
    {
      "cell_type": "code",
      "metadata": {
        "id": "TIP_eCnnEnj6"
      },
      "source": [
        "# Initialize circuit \n",
        "circuit = cirq.Circuit()"
      ],
      "execution_count": 3,
      "outputs": []
    },
    {
      "cell_type": "code",
      "metadata": {
        "id": "4XYUhthOErvn"
      },
      "source": [
        "# Initialize qubits\n",
        "q0, q1 = cirq.LineQubit.range(2)"
      ],
      "execution_count": 4,
      "outputs": []
    },
    {
      "cell_type": "markdown",
      "metadata": {
        "id": "7_4JiRHVEwVM"
      },
      "source": [
        "## Step 2: Apply gates"
      ]
    },
    {
      "cell_type": "markdown",
      "metadata": {
        "id": "c4PrhGpPE24p"
      },
      "source": [
        "Now, we shall start applying the gates"
      ]
    },
    {
      "cell_type": "code",
      "metadata": {
        "id": "577f9BZEE1O9"
      },
      "source": [
        "# Prepare X gate on qubit 0\n",
        "circuit.append(cirq.X(q0))"
      ],
      "execution_count": 5,
      "outputs": []
    },
    {
      "cell_type": "code",
      "metadata": {
        "colab": {
          "base_uri": "https://localhost:8080/",
          "height": 88
        },
        "id": "yZqOc03rFK7k",
        "outputId": "a5115296-1229-4328-f2bf-35d6ecfc4da4"
      },
      "source": [
        "# Visualize the circuit\n",
        "SVGCircuit(circuit)"
      ],
      "execution_count": 6,
      "outputs": [
        {
          "output_type": "stream",
          "name": "stderr",
          "text": [
            "findfont: Font family ['Arial'] not found. Falling back to DejaVu Sans.\n"
          ]
        },
        {
          "output_type": "execute_result",
          "data": {
            "text/plain": [
              "<cirq.contrib.svg.svg.SVGCircuit at 0x7f7520dd7450>"
            ],
            "image/svg+xml": "<svg xmlns=\"http://www.w3.org/2000/svg\" width=\"160.0\" height=\"50.0\"><line x1=\"30.0\" x2=\"130.0\" y1=\"25.0\" y2=\"25.0\" stroke=\"#1967d2\" stroke-width=\"1\" /><rect x=\"10.0\" y=\"5.0\" width=\"40\" height=\"40\" stroke=\"black\" fill=\"white\" stroke-width=\"0\" /><text x=\"30.0\" y=\"25.0\" dominant-baseline=\"middle\" text-anchor=\"middle\" font-size=\"14px\" font-family=\"Arial\">0: </text><rect x=\"70.0\" y=\"5.0\" width=\"40\" height=\"40\" stroke=\"black\" fill=\"white\" stroke-width=\"1\" /><text x=\"90.0\" y=\"25.0\" dominant-baseline=\"middle\" text-anchor=\"middle\" font-size=\"18px\" font-family=\"Arial\">X</text></svg>"
          },
          "metadata": {},
          "execution_count": 6
        }
      ]
    },
    {
      "cell_type": "code",
      "metadata": {
        "id": "D6mbVPSjFQnP"
      },
      "source": [
        "# Hadamard gate\n",
        "circuit.append(cirq.H(q0))"
      ],
      "execution_count": 7,
      "outputs": []
    },
    {
      "cell_type": "code",
      "metadata": {
        "colab": {
          "base_uri": "https://localhost:8080/",
          "height": 71
        },
        "id": "CpK7J4chFUW5",
        "outputId": "7562434a-daf4-46eb-a76e-f080f4b11062"
      },
      "source": [
        "# Visualize the circuit\n",
        "SVGCircuit(circuit)"
      ],
      "execution_count": 8,
      "outputs": [
        {
          "output_type": "execute_result",
          "data": {
            "text/plain": [
              "<cirq.contrib.svg.svg.SVGCircuit at 0x7f7520dd7510>"
            ],
            "image/svg+xml": "<svg xmlns=\"http://www.w3.org/2000/svg\" width=\"220.0\" height=\"50.0\"><line x1=\"30.0\" x2=\"190.0\" y1=\"25.0\" y2=\"25.0\" stroke=\"#1967d2\" stroke-width=\"1\" /><rect x=\"10.0\" y=\"5.0\" width=\"40\" height=\"40\" stroke=\"black\" fill=\"white\" stroke-width=\"0\" /><text x=\"30.0\" y=\"25.0\" dominant-baseline=\"middle\" text-anchor=\"middle\" font-size=\"14px\" font-family=\"Arial\">0: </text><rect x=\"70.0\" y=\"5.0\" width=\"40\" height=\"40\" stroke=\"black\" fill=\"white\" stroke-width=\"1\" /><text x=\"90.0\" y=\"25.0\" dominant-baseline=\"middle\" text-anchor=\"middle\" font-size=\"18px\" font-family=\"Arial\">X</text><rect x=\"130.0\" y=\"5.0\" width=\"40\" height=\"40\" stroke=\"black\" fill=\"white\" stroke-width=\"1\" /><text x=\"150.0\" y=\"25.0\" dominant-baseline=\"middle\" text-anchor=\"middle\" font-size=\"18px\" font-family=\"Arial\">H</text></svg>"
          },
          "metadata": {},
          "execution_count": 8
        }
      ]
    },
    {
      "cell_type": "code",
      "metadata": {
        "id": "jq63e02hFVcb"
      },
      "source": [
        "# Rx gate\n",
        "circuit.append(cirq.rx(np.pi/4)(q0))\n",
        "\n",
        "# Ry gate\n",
        "circuit.append(cirq.ry(np.pi/8)(q0))\n",
        "\n",
        "# Rz gate\n",
        "circuit.append(cirq.rz(np.pi/16)(q0))"
      ],
      "execution_count": 9,
      "outputs": []
    },
    {
      "cell_type": "code",
      "metadata": {
        "colab": {
          "base_uri": "https://localhost:8080/",
          "height": 71
        },
        "id": "BQYcaB1yFz6S",
        "outputId": "4f6467b6-03c3-498f-ab1d-33d310896cd0"
      },
      "source": [
        "# Visualize the circuit\n",
        "SVGCircuit(circuit)"
      ],
      "execution_count": 10,
      "outputs": [
        {
          "output_type": "execute_result",
          "data": {
            "text/plain": [
              "<cirq.contrib.svg.svg.SVGCircuit at 0x7f7520d84150>"
            ],
            "image/svg+xml": "<svg xmlns=\"http://www.w3.org/2000/svg\" width=\"523.989453125\" height=\"50.0\"><line x1=\"30.0\" x2=\"493.989453125\" y1=\"25.0\" y2=\"25.0\" stroke=\"#1967d2\" stroke-width=\"1\" /><rect x=\"10.0\" y=\"5.0\" width=\"40\" height=\"40\" stroke=\"black\" fill=\"white\" stroke-width=\"0\" /><text x=\"30.0\" y=\"25.0\" dominant-baseline=\"middle\" text-anchor=\"middle\" font-size=\"14px\" font-family=\"Arial\">0: </text><rect x=\"70.0\" y=\"5.0\" width=\"40\" height=\"40\" stroke=\"black\" fill=\"white\" stroke-width=\"1\" /><text x=\"90.0\" y=\"25.0\" dominant-baseline=\"middle\" text-anchor=\"middle\" font-size=\"18px\" font-family=\"Arial\">X</text><rect x=\"130.0\" y=\"5.0\" width=\"40\" height=\"40\" stroke=\"black\" fill=\"white\" stroke-width=\"1\" /><text x=\"150.0\" y=\"25.0\" dominant-baseline=\"middle\" text-anchor=\"middle\" font-size=\"18px\" font-family=\"Arial\">H</text><rect x=\"190.0\" y=\"5.0\" width=\"75.96050781250001\" height=\"40\" stroke=\"black\" fill=\"white\" stroke-width=\"1\" /><text x=\"227.98025390625\" y=\"25.0\" dominant-baseline=\"middle\" text-anchor=\"middle\" font-size=\"14px\" font-family=\"Arial\">Rx(0.25π)</text><rect x=\"285.9605078125\" y=\"5.0\" width=\"84.097734375\" height=\"40\" stroke=\"black\" fill=\"white\" stroke-width=\"1\" /><text x=\"328.009375\" y=\"25.0\" dominant-baseline=\"middle\" text-anchor=\"middle\" font-size=\"14px\" font-family=\"Arial\">Ry(0.125π)</text><rect x=\"390.0582421875\" y=\"5.0\" width=\"83.93121093750001\" height=\"40\" stroke=\"black\" fill=\"white\" stroke-width=\"1\" /><text x=\"432.02384765625004\" y=\"25.0\" dominant-baseline=\"middle\" text-anchor=\"middle\" font-size=\"14px\" font-family=\"Arial\">Rz(0.062π)</text></svg>"
          },
          "metadata": {},
          "execution_count": 10
        }
      ]
    },
    {
      "cell_type": "code",
      "metadata": {
        "id": "N45nVK-eFveA"
      },
      "source": [
        "# CNOT gate\n",
        "circuit.append(cirq.CNOT(q0, q1))"
      ],
      "execution_count": 11,
      "outputs": []
    },
    {
      "cell_type": "code",
      "metadata": {
        "colab": {
          "base_uri": "https://localhost:8080/",
          "height": 121
        },
        "id": "ctAxA8MpF97U",
        "outputId": "a71b3e2a-c1c7-4093-a6d3-d9afcab37a75"
      },
      "source": [
        "# Visualize the circuit\n",
        "SVGCircuit(circuit)"
      ],
      "execution_count": 12,
      "outputs": [
        {
          "output_type": "execute_result",
          "data": {
            "text/plain": [
              "<cirq.contrib.svg.svg.SVGCircuit at 0x7f7520d944d0>"
            ],
            "image/svg+xml": "<svg xmlns=\"http://www.w3.org/2000/svg\" width=\"583.989453125\" height=\"100.0\"><line x1=\"30.0\" x2=\"553.989453125\" y1=\"25.0\" y2=\"25.0\" stroke=\"#1967d2\" stroke-width=\"1\" /><line x1=\"30.0\" x2=\"553.989453125\" y1=\"75.0\" y2=\"75.0\" stroke=\"#1967d2\" stroke-width=\"1\" /><line x1=\"513.989453125\" x2=\"513.989453125\" y1=\"25.0\" y2=\"75.0\" stroke=\"black\" stroke-width=\"3\" /><rect x=\"10.0\" y=\"5.0\" width=\"40\" height=\"40\" stroke=\"black\" fill=\"white\" stroke-width=\"0\" /><text x=\"30.0\" y=\"25.0\" dominant-baseline=\"middle\" text-anchor=\"middle\" font-size=\"14px\" font-family=\"Arial\">0: </text><rect x=\"10.0\" y=\"55.0\" width=\"40\" height=\"40\" stroke=\"black\" fill=\"white\" stroke-width=\"0\" /><text x=\"30.0\" y=\"75.0\" dominant-baseline=\"middle\" text-anchor=\"middle\" font-size=\"14px\" font-family=\"Arial\">1: </text><rect x=\"70.0\" y=\"5.0\" width=\"40\" height=\"40\" stroke=\"black\" fill=\"white\" stroke-width=\"1\" /><text x=\"90.0\" y=\"25.0\" dominant-baseline=\"middle\" text-anchor=\"middle\" font-size=\"18px\" font-family=\"Arial\">X</text><rect x=\"130.0\" y=\"5.0\" width=\"40\" height=\"40\" stroke=\"black\" fill=\"white\" stroke-width=\"1\" /><text x=\"150.0\" y=\"25.0\" dominant-baseline=\"middle\" text-anchor=\"middle\" font-size=\"18px\" font-family=\"Arial\">H</text><rect x=\"190.0\" y=\"5.0\" width=\"75.96050781250001\" height=\"40\" stroke=\"black\" fill=\"white\" stroke-width=\"1\" /><text x=\"227.98025390625\" y=\"25.0\" dominant-baseline=\"middle\" text-anchor=\"middle\" font-size=\"14px\" font-family=\"Arial\">Rx(0.25π)</text><rect x=\"285.9605078125\" y=\"5.0\" width=\"84.097734375\" height=\"40\" stroke=\"black\" fill=\"white\" stroke-width=\"1\" /><text x=\"328.009375\" y=\"25.0\" dominant-baseline=\"middle\" text-anchor=\"middle\" font-size=\"14px\" font-family=\"Arial\">Ry(0.125π)</text><rect x=\"390.0582421875\" y=\"5.0\" width=\"83.93121093750001\" height=\"40\" stroke=\"black\" fill=\"white\" stroke-width=\"1\" /><text x=\"432.02384765625004\" y=\"25.0\" dominant-baseline=\"middle\" text-anchor=\"middle\" font-size=\"14px\" font-family=\"Arial\">Rz(0.062π)</text><circle cx=\"513.989453125\" cy=\"25.0\" r=\"10.0\" /><rect x=\"493.98945312499995\" y=\"55.0\" width=\"40\" height=\"40\" stroke=\"black\" fill=\"white\" stroke-width=\"1\" /><text x=\"513.989453125\" y=\"75.0\" dominant-baseline=\"middle\" text-anchor=\"middle\" font-size=\"18px\" font-family=\"Arial\">X</text></svg>"
          },
          "metadata": {},
          "execution_count": 12
        }
      ]
    },
    {
      "cell_type": "markdown",
      "metadata": {
        "id": "qhbRIicfGBED"
      },
      "source": [
        "## Step 3: Measure"
      ]
    },
    {
      "cell_type": "code",
      "metadata": {
        "id": "StFThVeLGCgh"
      },
      "source": [
        "# Meaure qubits 0,1\n",
        "circuit.append(cirq.measure(q0, q1, key='0'))"
      ],
      "execution_count": 13,
      "outputs": []
    },
    {
      "cell_type": "markdown",
      "metadata": {
        "id": "hTqLt7TJGNBC"
      },
      "source": [
        "# Circuit Simulation"
      ]
    },
    {
      "cell_type": "code",
      "metadata": {
        "colab": {
          "base_uri": "https://localhost:8080/",
          "height": 329
        },
        "id": "C5qkd_TuGO5j",
        "outputId": "52a24540-655e-49b9-f09d-9b0f27d074af"
      },
      "source": [
        "s=cirq.Simulator()\n",
        "samples=s.run(circuit, repetitions=1000)\n",
        "\n",
        "# Print Measurement results\n",
        "print(\"Measurement result of qubits: {}\".format(samples.histogram(key='0')))\n",
        "\n",
        "# Plot the results\n",
        "cirq.vis.plot_state_histogram(samples)"
      ],
      "execution_count": 18,
      "outputs": [
        {
          "output_type": "stream",
          "name": "stdout",
          "text": [
            "Measurement result of qubits: Counter({0: 700, 3: 300})\n"
          ]
        },
        {
          "output_type": "execute_result",
          "data": {
            "text/plain": [
              "<matplotlib.axes._subplots.AxesSubplot at 0x7f7520b8d390>"
            ]
          },
          "metadata": {},
          "execution_count": 18
        },
        {
          "output_type": "display_data",
          "data": {
            "image/png": "[encoded data removed]",
            "text/plain": [
              "<Figure size 432x288 with 1 Axes>"
            ]
          },
          "metadata": {
            "needs_background": "light"
          }
        }
      ]
    },
    {
      "cell_type": "code",
      "metadata": {
        "colab": {
          "base_uri": "https://localhost:8080/",
          "height": 121
        },
        "id": "eVM7w9LkG0zn",
        "outputId": "832affd9-5397-4c93-fbb8-f86734b02f0f"
      },
      "source": [
        "# Visualize the circuit\n",
        "SVGCircuit(circuit)"
      ],
      "execution_count": null,
      "outputs": [
        {
          "output_type": "execute_result",
          "data": {
            "text/plain": [
              "<cirq.contrib.svg.svg.SVGCircuit at 0x7fb99c27d150>"
            ],
            "image/svg+xml": "<svg xmlns=\"http://www.w3.org/2000/svg\" width=\"651.0202734375\" height=\"100.0\"><line x1=\"30.0\" x2=\"621.0202734375\" y1=\"25.0\" y2=\"25.0\" stroke=\"#1967d2\" stroke-width=\"1\" /><line x1=\"30.0\" x2=\"621.0202734375\" y1=\"75.0\" y2=\"75.0\" stroke=\"#1967d2\" stroke-width=\"1\" /><line x1=\"513.989453125\" x2=\"513.989453125\" y1=\"25.0\" y2=\"75.0\" stroke=\"black\" stroke-width=\"3\" /><line x1=\"577.50486328125\" x2=\"577.50486328125\" y1=\"25.0\" y2=\"75.0\" stroke=\"black\" stroke-width=\"3\" /><rect x=\"10.0\" y=\"5.0\" width=\"40\" height=\"40\" stroke=\"black\" fill=\"white\" stroke-width=\"0\" /><text x=\"30.0\" y=\"25.0\" dominant-baseline=\"middle\" text-anchor=\"middle\" font-size=\"14px\" font-family=\"Arial\">0: </text><rect x=\"10.0\" y=\"55.0\" width=\"40\" height=\"40\" stroke=\"black\" fill=\"white\" stroke-width=\"0\" /><text x=\"30.0\" y=\"75.0\" dominant-baseline=\"middle\" text-anchor=\"middle\" font-size=\"14px\" font-family=\"Arial\">1: </text><rect x=\"70.0\" y=\"5.0\" width=\"40\" height=\"40\" stroke=\"black\" fill=\"white\" stroke-width=\"1\" /><text x=\"90.0\" y=\"25.0\" dominant-baseline=\"middle\" text-anchor=\"middle\" font-size=\"18px\" font-family=\"Arial\">X</text><rect x=\"130.0\" y=\"5.0\" width=\"40\" height=\"40\" stroke=\"black\" fill=\"white\" stroke-width=\"1\" /><text x=\"150.0\" y=\"25.0\" dominant-baseline=\"middle\" text-anchor=\"middle\" font-size=\"18px\" font-family=\"Arial\">H</text><rect x=\"190.0\" y=\"5.0\" width=\"75.96050781250001\" height=\"40\" stroke=\"black\" fill=\"white\" stroke-width=\"1\" /><text x=\"227.98025390625\" y=\"25.0\" dominant-baseline=\"middle\" text-anchor=\"middle\" font-size=\"14px\" font-family=\"Arial\">Rx(0.25π)</text><rect x=\"285.9605078125\" y=\"5.0\" width=\"84.097734375\" height=\"40\" stroke=\"black\" fill=\"white\" stroke-width=\"1\" /><text x=\"328.009375\" y=\"25.0\" dominant-baseline=\"middle\" text-anchor=\"middle\" font-size=\"14px\" font-family=\"Arial\">Ry(0.125π)</text><rect x=\"390.0582421875\" y=\"5.0\" width=\"83.93121093750001\" height=\"40\" stroke=\"black\" fill=\"white\" stroke-width=\"1\" /><text x=\"432.02384765625004\" y=\"25.0\" dominant-baseline=\"middle\" text-anchor=\"middle\" font-size=\"14px\" font-family=\"Arial\">Rz(0.062π)</text><circle cx=\"513.989453125\" cy=\"25.0\" r=\"10.0\" /><rect x=\"493.98945312499995\" y=\"55.0\" width=\"40\" height=\"40\" stroke=\"black\" fill=\"white\" stroke-width=\"1\" /><text x=\"513.989453125\" y=\"75.0\" dominant-baseline=\"middle\" text-anchor=\"middle\" font-size=\"18px\" font-family=\"Arial\">X</text><rect x=\"553.989453125\" y=\"5.0\" width=\"47.0308203125\" height=\"40\" stroke=\"black\" fill=\"white\" stroke-width=\"1\" /><text x=\"577.50486328125\" y=\"25.0\" dominant-baseline=\"middle\" text-anchor=\"middle\" font-size=\"14px\" font-family=\"Arial\">M('0')</text><rect x=\"553.989453125\" y=\"55.0\" width=\"47.0308203125\" height=\"40\" stroke=\"black\" fill=\"white\" stroke-width=\"1\" /><text x=\"577.50486328125\" y=\"75.0\" dominant-baseline=\"middle\" text-anchor=\"middle\" font-size=\"18px\" font-family=\"Arial\">M</text></svg>"
          },
          "metadata": {
            "tags": []
          },
          "execution_count": 31
        }
      ]
    },
    {
      "cell_type": "code",
      "metadata": {
        "colab": {
          "base_uri": "https://localhost:8080/"
        },
        "id": "6CdTPKpp4SsD",
        "outputId": "07f42aee-febf-49c9-9d51-2a598864dda8"
      },
      "source": [
        "print(circuit)"
      ],
      "execution_count": 14,
      "outputs": [
        {
          "output_type": "stream",
          "name": "stdout",
          "text": [
            "0: ───X───H───Rx(0.25π)───Ry(0.125π)───Rz(0.062π)───@───M('0')───\n",
            "                                                    │   │\n",
            "1: ─────────────────────────────────────────────────X───M────────\n"
          ]
        }
      ]
    },
    {
      "cell_type": "markdown",
      "metadata": {
        "id": "qpReBZIQG7Sl"
      },
      "source": [
        "# Reading the statevector"
      ]
    },
    {
      "cell_type": "markdown",
      "metadata": {
        "id": "yRQNdM_TG79x"
      },
      "source": [
        "During simulations, Cirq allows one to take a sneak peak at the state."
      ]
    },
    {
      "cell_type": "code",
      "metadata": {
        "colab": {
          "base_uri": "https://localhost:8080/"
        },
        "id": "VEMevju0G-fv",
        "outputId": "b305c064-0d80-4aae-d771-513d804adb48"
      },
      "source": [
        "# Initialize circuit \n",
        "circuit = cirq.Circuit()\n",
        "\n",
        "# Initialize qubits\n",
        "q0, q1 = cirq.LineQubit.range(2)\n",
        "\n",
        "# Prepare Hadamrad gate on qubit 0\n",
        "circuit.append(cirq.H(q0))\n",
        "\n",
        "# Prepare Hadamrad gate on qubit 1\n",
        "circuit.append(cirq.H(q1))\n",
        "\n",
        "# Extract the statevector\n",
        "s=cirq.Simulator()\n",
        "result=s.simulate(circuit)\n",
        "statevector = result.final_state_vector\n",
        "print(statevector)"
      ],
      "execution_count": null,
      "outputs": [
        {
          "output_type": "stream",
          "text": [
            "[0.49999997+0.j 0.49999997+0.j 0.49999997+0.j 0.49999997+0.j]\n"
          ],
          "name": "stdout"
        }
      ]
    }
  ]
}