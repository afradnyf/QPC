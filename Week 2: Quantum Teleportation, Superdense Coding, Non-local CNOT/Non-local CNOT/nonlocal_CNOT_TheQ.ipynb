{
  "nbformat": 4,
  "nbformat_minor": 0,
  "metadata": {
    "colab": {
      "name": "nonlocal_CNOT_TheQ.ipynb",
      "provenance": [],
      "collapsed_sections": [
        "G9KlKzB_qpGI",
        "hQmM5KIhq8y8"
      ]
    },
    "kernelspec": {
      "name": "python3",
      "display_name": "Python 3"
    },
    "language_info": {
      "name": "python"
    }
  },
  "cells": [
    {
      "cell_type": "markdown",
      "metadata": {
        "id": "uePF10pzqYjz"
      },
      "source": [
        "# Circuit implementation of a nonlocal CNOT using TheQ\n",
        "\n",
        "This notebook will teach you how to construct your own circuits for a nonlocal CNOT using TheQ."
      ]
    },
    {
      "cell_type": "markdown",
      "metadata": {
        "id": "G9KlKzB_qpGI"
      },
      "source": [
        "# Importing packages"
      ]
    },
    {
      "cell_type": "code",
      "metadata": {
        "id": "XILI8KJEqrWg"
      },
      "source": [
        "# Server addresses should be stable, but may occasionally be offline\n",
        "import requests\n",
        "import json\n",
        "import math\n",
        "import numpy as np # Required to prepare and play around with the output states\n",
        "from google.colab import files\n",
        "req_str = 'http://8b851bd5c0ec.ngrok.io/qsim/perform_operation'\n",
        "req_str_qasm = 'http://8b851bd5c0ec.ngrok.io/qsim/qasm'"
      ],
      "execution_count": null,
      "outputs": []
    },
    {
      "cell_type": "markdown",
      "metadata": {
        "id": "hQmM5KIhq8y8"
      },
      "source": [
        "# Required functions"
      ]
    },
    {
      "cell_type": "code",
      "metadata": {
        "id": "j3-Zu1Acq_UC"
      },
      "source": [
        "# Define Create ciruit (these are the four core definitions for any circuit)\n",
        "# all circuits must be bookmarked by the create_circuit and destroy_circuit command\n",
        "\n",
        "# Initial_state is a binary integer to initalise all qubit, \n",
        "# most often initial_state=0.\n",
        "def create_circuit(qubits,initial_state):\n",
        "    data = {\n",
        "        'operation': 'create_circuit',\n",
        "        'num_qubits': qubits\n",
        "    }\n",
        "    result = requests.post(req_str, json=data)\n",
        "    json_obj = json.loads(result.content)\n",
        "    reg_id = json_obj['result']\n",
        "\n",
        "    data = {\n",
        "        'operation': 'set_state',\n",
        "        'register': reg_id,\n",
        "        'state': initial_state,\n",
        "        'complex_value': {'re': 1, 'im': 0}\n",
        "    }\n",
        "    result = requests.post(req_str, json=data)\n",
        "    return reg_id\n",
        "\n",
        "# Gates.  gate_name and params are specified from the list above\n",
        "def gate(register_id, gate_name, params):\n",
        "    data = {\n",
        "        'operation': 'gate',\n",
        "        'register': register_id,\n",
        "        'gate': gate_name\n",
        "    }\n",
        "    for k in params.keys():\n",
        "        data[k] = params[k]\n",
        "    result = requests.post(req_str, json=data)\n",
        "    json_obj=json.loads(result.content)\n",
        "    return json_obj['result']\n",
        "\n",
        "# params contain an array of qubit numbers to measure, 'lq2m': [0,1,3] would measure qubits 0, 1 and 3 and return the \n",
        "# corresponding 3-bit integer value from 0 to 7.\n",
        "def measure_qubit(register_id, params):\n",
        "    data = {\n",
        "        'operation': 'measure', \n",
        "        'register': register_id,\n",
        "    }\n",
        "    for k in params.keys():\n",
        "        data[k] = params[k]\n",
        "    result = requests.post(req_str, json=data)\n",
        "\n",
        "    json_obj = json.loads(result.content)\n",
        "    return json_obj['result']\n",
        "\n",
        "# Always call destroy_circuit to terminate simulation (turn off your QC)\n",
        "def destroy_circuit(register_id):\n",
        "  data = {\n",
        "        'operation': 'destroy_circuit', \n",
        "        'register': register_id\n",
        "  }\n",
        "  result = requests.post(req_str, json=data)\n",
        "\n",
        "# Print allows you to output the current computational state of the machine.\n",
        "def print_vector(register_id):\n",
        "  data = {\n",
        "        'operation': 'state_vector', \n",
        "        'register': register_id\n",
        "  }\n",
        "  result = requests.post(req_str, json=data)\n",
        "  json_obj = json.loads(result.content)\n",
        "  return json_obj['result']\n"
      ],
      "execution_count": null,
      "outputs": []
    },
    {
      "cell_type": "markdown",
      "metadata": {
        "id": "bKUesZsErBMZ"
      },
      "source": [
        "# The circuits"
      ]
    },
    {
      "cell_type": "markdown",
      "metadata": {
        "id": "3XW95_81rGLX"
      },
      "source": [
        "Now, we move on to main part of the notebook. In this section, we shall explain the construction of the circuit for implementing a non local $CNOT$ gate. The idea is that, by sharing a Bell state among them, Alice and Bob should be able to apply a $CNOT$ gate between two qubits non-locally. That is, suppose Alice has a qubit $q_1$ with the state $|\\psi \\rangle$ prepared in it. Let Bob possess a qubit $q_2$ with the state $|\\phi \\rangle$ prepared in it. Assume they are not close to each other, but share a Bell state $|\\beta \\rangle = \\frac{1}{\\sqrt{2}} \\Big( |00\\rangle + |11\\rangle \\Big)$ between them, that is, one qubit $q_A$ in this state should be with Alice, and the other qubit $q_B$ should be with Bob. Then, through the protocol described in this notebook, they should be able to apply a $CNOT$ gate controlled on $q_1$ and targetted on $q_2$. This scheme is as follow:\n",
        "\n",
        "1. First, Alice applies a $CNOT$ gate, controlled on $q_1$ and targetted on $q_A$. \n",
        "\n",
        "2. Then, Bob applies a $CNOT$ gate, controlled on $q_2$ and targetted on $q_B$. \n",
        "\n",
        "3. Bob applies a Hadamard gate on $q_B$.\n",
        "\n",
        "4. Now, Alice and Bob measure $q_A$ and $q_B$. Then they convey the results of the measurement to each other. \n",
        "\n",
        "5. If $q_A$ was $1$, Bob applies an $X$ gate on $q_2$. If $q_B$ was $1$, then Alice applies a $Z$ gate on $q_A$. The resultant state would be $CNOT (|\\psi\\rangle |\\phi\\rangle)$.\n",
        "\n",
        "The circuit of this protocol can be visualized as follows:\n",
        "\n",
        "![nonlocal_CNOTT.png](data:image/png;base64,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)\n"
      ]
    },
    {
      "cell_type": "markdown",
      "metadata": {
        "id": "RyPq_-1xrLyO"
      },
      "source": [
        "# Implementation of non-local $CNOT$"
      ]
    },
    {
      "cell_type": "markdown",
      "metadata": {
        "id": "yRh3N4yerP-9"
      },
      "source": [
        "Now, we move on to constructing this circuit using TheQ."
      ]
    },
    {
      "cell_type": "markdown",
      "metadata": {
        "id": "vi5T1d1RrTrN"
      },
      "source": [
        "Since the circuit contains four qubits, we create a circuit with four qubits."
      ]
    },
    {
      "cell_type": "code",
      "metadata": {
        "id": "NmEdCmtgraQ3"
      },
      "source": [
        "# Prepare the circuit\n",
        "reg_id = create_circuit(4,0)"
      ],
      "execution_count": null,
      "outputs": []
    },
    {
      "cell_type": "markdown",
      "metadata": {
        "id": "FHFT7yGirdV-"
      },
      "source": [
        "Now, we shall start applying the gates."
      ]
    },
    {
      "cell_type": "markdown",
      "metadata": {
        "id": "6kd_vWuPrfF9"
      },
      "source": [
        "The first step is to prepare arbitrary states in the first and last qubits. Lets start by generating arbitray normalized complex vectors in two dimensions, by applying a $R_X(\\theta)$ and $R_Z(\\omega)$ gates on $|0\\rangle$, with random values of $\\theta$ and $\\omega$. "
      ]
    },
    {
      "cell_type": "code",
      "metadata": {
        "colab": {
          "base_uri": "https://localhost:8080/"
        },
        "id": "RFuIHku5r50q",
        "outputId": "11673d24-1d0b-4aff-c6c8-7ace1986ecfb"
      },
      "source": [
        "# Apply rotation around x-axis followed by rotation around z-axis on qubits 0 and 3.\n",
        "gate(reg_id, 'xrot', {'q': 0, 'theta': 13})\n",
        "gate(reg_id, 'zrot', {'q': 0, 'theta': 19})\n",
        "\n",
        "gate(reg_id, 'xrot', {'q': 3, 'theta': 23})\n",
        "gate(reg_id, 'zrot', {'q': 3, 'theta': 29})"
      ],
      "execution_count": null,
      "outputs": [
        {
          "output_type": "execute_result",
          "data": {
            "text/plain": [
              "True"
            ]
          },
          "metadata": {
            "tags": []
          },
          "execution_count": 4
        }
      ]
    },
    {
      "cell_type": "markdown",
      "metadata": {
        "id": "EMHOe-r3sEVZ"
      },
      "source": [
        "Next step is to prepare $|\\beta\\rangle = \\frac{1}{\\sqrt{2}}\\Big( |00\\rangle + |11\\rangle\\Big)$ in the second and third qubit. This is done by applying an $H$ gate followed by a $CNOT$ gate."
      ]
    },
    {
      "cell_type": "code",
      "metadata": {
        "colab": {
          "base_uri": "https://localhost:8080/"
        },
        "id": "gP9RUSoVsHaN",
        "outputId": "e63e92fd-29f5-460c-c0e5-6d24361ac8a0"
      },
      "source": [
        "# Apply Hadamard gate on qubit 1 \n",
        "gate(reg_id, 'hadamard', {'q': 1})\n",
        "\n",
        "# Apply CNOT gate on qubits 1 and 2\n",
        "gate(reg_id, 'cnot', {'q_control': 1, 'q_target': 2})"
      ],
      "execution_count": null,
      "outputs": [
        {
          "output_type": "execute_result",
          "data": {
            "text/plain": [
              "True"
            ]
          },
          "metadata": {
            "tags": []
          },
          "execution_count": 5
        }
      ]
    },
    {
      "cell_type": "markdown",
      "metadata": {
        "id": "GienMlDWsL7Q"
      },
      "source": [
        "Alice applies a $CNOT$ gate on the first and second qubits. Then Bob applies a $CNOT$ gate on the third and fourth qubits."
      ]
    },
    {
      "cell_type": "code",
      "metadata": {
        "colab": {
          "base_uri": "https://localhost:8080/"
        },
        "id": "09hg-tgAsPpw",
        "outputId": "02ccaec1-1076-49f2-e257-0fe1ee24fafa"
      },
      "source": [
        "# Apply CNOT gate on qubits 0 and 1\n",
        "gate(reg_id, 'cnot', {'q_control': 0, 'q_target': 1})\n",
        "\n",
        "# Apply CNOT gate on qubits 2 and 3\n",
        "gate(reg_id, 'cnot', {'q_control': 2, 'q_target': 3})"
      ],
      "execution_count": null,
      "outputs": [
        {
          "output_type": "execute_result",
          "data": {
            "text/plain": [
              "True"
            ]
          },
          "metadata": {
            "tags": []
          },
          "execution_count": 6
        }
      ]
    },
    {
      "cell_type": "markdown",
      "metadata": {
        "id": "-u1ke_mbsU3p"
      },
      "source": [
        "Now, Bob applies a Hadamard gate on the qubit in his possession (third qubit).\n"
      ]
    },
    {
      "cell_type": "code",
      "metadata": {
        "colab": {
          "base_uri": "https://localhost:8080/"
        },
        "id": "49fL_dUKsXVF",
        "outputId": "416a9aa7-cb19-4f7f-ae0d-2d86b52a4e04"
      },
      "source": [
        "# Apply Hadamard gate on qubit 2\n",
        "gate(reg_id, 'hadamard', {'q': 2})"
      ],
      "execution_count": null,
      "outputs": [
        {
          "output_type": "execute_result",
          "data": {
            "text/plain": [
              "True"
            ]
          },
          "metadata": {
            "tags": []
          },
          "execution_count": 7
        }
      ]
    },
    {
      "cell_type": "markdown",
      "metadata": {
        "id": "MxFPe7GPsbiC"
      },
      "source": [
        "Now, Alice and Bob measures the qubits in which they had the Bell state, and applies $X$ gate and $Z$ gate based on the result of the measurements. That is, we measure qubits $q_1$ and $q_2$. If $q_1$ resulted in $1$, we apply a $X$ gate on the last qubit. Then, if $q_2$ resulted in $1$, then we apply a $Z$ gate on the first qubit."
      ]
    },
    {
      "cell_type": "code",
      "metadata": {
        "colab": {
          "base_uri": "https://localhost:8080/"
        },
        "id": "jON8DRzmse_n",
        "outputId": "c9bc6657-08c4-4651-96fa-4bf7fbf81f41"
      },
      "source": [
        "# Measure qubits 1 and 2\n",
        "c1 = measure_qubit(reg_id,{'lq2m': [1]})\n",
        "c2 = measure_qubit(reg_id,{'lq2m': [2]})\n",
        "\n",
        "# Apply CNot gate followed by CZ gate on qubit 2\n",
        "gate(reg_id, 'cnot', {'q_control': 1, 'q_target': 3})\n",
        "gate(reg_id, 'cphase', {'q_control': 2, 'q_target': 0, 'theta': np.pi})"
      ],
      "execution_count": null,
      "outputs": [
        {
          "output_type": "execute_result",
          "data": {
            "text/plain": [
              "True"
            ]
          },
          "metadata": {
            "tags": []
          },
          "execution_count": 8
        }
      ]
    },
    {
      "cell_type": "markdown",
      "metadata": {
        "id": "tBFg7Gwys6-4"
      },
      "source": [
        "Now, let's extract the state at this point."
      ]
    },
    {
      "cell_type": "code",
      "metadata": {
        "colab": {
          "base_uri": "https://localhost:8080/"
        },
        "id": "53ZA7mU6s-N-",
        "outputId": "312e34c2-c48c-4f41-e27c-b30bda8f7007"
      },
      "source": [
        "print_vector(reg_id)"
      ],
      "execution_count": null,
      "outputs": [
        {
          "output_type": "execute_result",
          "data": {
            "text/plain": [
              "[{'binary_pattern': '0110',\n",
              "  'complex_value': {'im': 0.4274234301661436, 're': -0.20020801503992083},\n",
              "  'state': 6},\n",
              " {'binary_pattern': '0111',\n",
              "  'complex_value': {'im': -0.17054509289113612, 're': -0.07988447079108647},\n",
              "  'state': 7},\n",
              " {'binary_pattern': '1110',\n",
              "  'complex_value': {'im': 0.2425186195594749, 're': -0.8198378327150115},\n",
              "  'state': 14},\n",
              " {'binary_pattern': '1111',\n",
              "  'complex_value': {'im': -0.029491935885210006, 're': -0.09969793182321467},\n",
              "  'state': 15}]"
            ]
          },
          "metadata": {
            "tags": []
          },
          "execution_count": 9
        }
      ]
    },
    {
      "cell_type": "code",
      "metadata": {
        "id": "F4NGVk3wtFJ-"
      },
      "source": [
        "# Extract the statevector\n",
        "non_local_output = np.zeros(4) + (1j * np.zeros(4))\n",
        "for i in range(4):\n",
        "  non_local_output[i] = print_vector(reg_id)[i]['complex_value']['re'] + (1j * print_vector(reg_id)[i]['complex_value']['im'])"
      ],
      "execution_count": null,
      "outputs": []
    },
    {
      "cell_type": "markdown",
      "metadata": {
        "id": "ICHEAR2ntesm"
      },
      "source": [
        "Remember to destroy the circuit after use. "
      ]
    },
    {
      "cell_type": "code",
      "metadata": {
        "id": "jG2vgv10tjgS"
      },
      "source": [
        "# Destroy circuit\n",
        "destroy_circuit(reg_id)"
      ],
      "execution_count": null,
      "outputs": []
    },
    {
      "cell_type": "markdown",
      "metadata": {
        "id": "U9QavvD6tY0R"
      },
      "source": [
        "Next step is to verify if we really did end up with $CNOT(|\\psi \\rangle |\\phi \\rangle)$. For that, we compute the fidelity between the \"non_local_output\" and \"local_output\" which is $CNOT (|\\psi\\rangle |\\phi \\rangle)$ computed separately, that is, \n",
        "\n",
        "\\begin{equation}\n",
        "  \\Big| \\langle \\text{non_local_output}, \\text{local_output} \\rangle \\Big|\n",
        "\\end{equation}\n",
        "\n",
        "If this output is $1$, our circuit seems to be doing the job."
      ]
    },
    {
      "cell_type": "code",
      "metadata": {
        "colab": {
          "base_uri": "https://localhost:8080/"
        },
        "id": "yFD3rH74tdD3",
        "outputId": "80b66131-a343-49cd-c48d-95b7bcd23981"
      },
      "source": [
        "# Prepare the circuit\n",
        "reg_id = create_circuit(2,0)\n",
        "\n",
        "# Apply rotation around x-axis followed by rotation around z-axis on qubits 0 and 3.\n",
        "gate(reg_id, 'xrot', {'q': 0, 'theta': 13})\n",
        "gate(reg_id, 'zrot', {'q': 0, 'theta': 19})\n",
        "\n",
        "gate(reg_id, 'xrot', {'q': 1, 'theta': 23})\n",
        "gate(reg_id, 'zrot', {'q': 1, 'theta': 29})\n",
        "\n",
        "# Apply CNOT gate on qubits 0 and 1\n",
        "gate(reg_id, 'cnot', {'q_control': 0, 'q_target': 1})\n",
        "\n",
        "# Extract the statevector\n",
        "local_output = np.zeros(4) + (1j * np.zeros(4))\n",
        "for i in range(4):\n",
        "  local_output[i] = print_vector(reg_id)[i]['complex_value']['re'] + (1j * print_vector(reg_id)[i]['complex_value']['im'])\n",
        "\n",
        "# Display fidleity of output\n",
        "print(\"fidleity of output: {}\".format(np.abs(np.dot(np.conj(local_output), non_local_output))))\n",
        "\n",
        "# Destroy circuit\n",
        "destroy_circuit(reg_id)"
      ],
      "execution_count": null,
      "outputs": [
        {
          "output_type": "stream",
          "text": [
            "fidleity of output: 0.9999999999999999\n"
          ],
          "name": "stdout"
        }
      ]
    },
    {
      "cell_type": "markdown",
      "metadata": {
        "id": "pSYcetgruEMw"
      },
      "source": [
        "As expected, the result is $1$. Now, let's run this non-local $CNOT$ protocol multiple times and observe the result. "
      ]
    },
    {
      "cell_type": "code",
      "metadata": {
        "colab": {
          "base_uri": "https://localhost:8080/",
          "height": 587
        },
        "id": "ejt96hQ_uGGw",
        "outputId": "6659c32c-8ab3-4238-90d7-c626c69bea99"
      },
      "source": [
        "for i in range(20):\n",
        "  # Prepare the circuit\n",
        "  reg_id = create_circuit(4,0)\n",
        "\n",
        "  # Apply rotation around x-axis followed by rotation around z-axis on qubits 0 and 3.\n",
        "  gate(reg_id, 'xrot', {'q': 0, 'theta': 13})\n",
        "  gate(reg_id, 'zrot', {'q': 0, 'theta': 19})\n",
        "\n",
        "  gate(reg_id, 'xrot', {'q': 3, 'theta': 23})\n",
        "  gate(reg_id, 'zrot', {'q': 3, 'theta': 29})\n",
        "\n",
        "  # Apply Hadamard gate on qubit 1 \n",
        "  gate(reg_id, 'hadamard', {'q': 1})\n",
        "\n",
        "  # Apply CNOT gate on qubits 1 and 2\n",
        "  gate(reg_id, 'cnot', {'q_control': 1, 'q_target': 2})\n",
        "\n",
        "  # Apply CNOT gate on qubits 0 and 1\n",
        "  gate(reg_id, 'cnot', {'q_control': 0, 'q_target': 1})\n",
        "\n",
        "  # Apply CNOT gate on qubits 2 and 3\n",
        "  gate(reg_id, 'cnot', {'q_control': 2, 'q_target': 3})\n",
        "\n",
        "  # Apply Hadamard gate on qubit 2\n",
        "  gate(reg_id, 'hadamard', {'q': 2})\n",
        "\n",
        "  # Measure qubits 1 and 2\n",
        "  c1 = measure_qubit(reg_id,{'lq2m': [1]})\n",
        "  c2 = measure_qubit(reg_id,{'lq2m': [2]})\n",
        "\n",
        "  # Apply CNot gate followed by CZ gate on qubit 2\n",
        "  gate(reg_id, 'cnot', {'q_control': 1, 'q_target': 3})\n",
        "  gate(reg_id, 'cphase', {'q_control': 2, 'q_target': 0, 'theta': np.pi})\n",
        "\n",
        "  # Extract the statevector\n",
        "  non_local_output = np.zeros(4) + (1j * np.zeros(4))\n",
        "  for i in range(4):\n",
        "    non_local_output[i] = print_vector(reg_id)[i]['complex_value']['re'] + (1j * print_vector(reg_id)[i]['complex_value']['im'])\n",
        "\n",
        "  # Destroy circuit\n",
        "  destroy_circuit(reg_id)\n",
        "\n",
        "  # Prepare the circuit\n",
        "  reg_id = create_circuit(2,0)\n",
        "\n",
        "  # Apply rotation around x-axis followed by rotation around z-axis on qubits 0 and 3.\n",
        "  gate(reg_id, 'xrot', {'q': 0, 'theta': 13})\n",
        "  gate(reg_id, 'zrot', {'q': 0, 'theta': 19})\n",
        "\n",
        "  gate(reg_id, 'xrot', {'q': 1, 'theta': 23})\n",
        "  gate(reg_id, 'zrot', {'q': 1, 'theta': 29})\n",
        "\n",
        "  # Apply CNOT gate on qubits 0 and 1\n",
        "  gate(reg_id, 'cnot', {'q_control': 0, 'q_target': 1})\n",
        "\n",
        "  # Extract the statevector\n",
        "  local_output = np.zeros(4) + (1j * np.zeros(4))\n",
        "  for i in range(4):\n",
        "    local_output[i] = print_vector(reg_id)[i]['complex_value']['re'] + (1j * print_vector(reg_id)[i]['complex_value']['im'])\n",
        "\n",
        "  # Display fidleity of output\n",
        "  print(\"fidleity of output: {}\".format(np.abs(np.dot(np.conj(local_output), non_local_output))))\n",
        "\n",
        "  # Destroy circuit\n",
        "  destroy_circuit(reg_id)\n",
        "\n"
      ],
      "execution_count": null,
      "outputs": [
        {
          "output_type": "stream",
          "text": [
            "fidleity of output: 0.9999999999999999\n",
            "fidleity of output: 1.0\n",
            "fidleity of output: 1.0\n",
            "fidleity of output: 1.0\n",
            "fidleity of output: 0.9999999999999999\n",
            "fidleity of output: 1.0\n",
            "fidleity of output: 1.0\n",
            "fidleity of output: 1.0\n",
            "fidleity of output: 1.0\n",
            "fidleity of output: 1.0\n",
            "fidleity of output: 0.9999999999999999\n",
            "fidleity of output: 0.9999999999999999\n",
            "fidleity of output: 0.9999999999999999\n",
            "fidleity of output: 1.0\n"
          ],
          "name": "stdout"
        },
        {
          "output_type": "error",
          "ename": "JSONDecodeError",
          "evalue": "ignored",
          "traceback": [
            "\u001b[0;31m---------------------------------------------------------------------------\u001b[0m",
            "\u001b[0;31mJSONDecodeError\u001b[0m                           Traceback (most recent call last)",
            "\u001b[0;32m<ipython-input-21-d975c7414eeb>\u001b[0m in \u001b[0;36m<module>\u001b[0;34m()\u001b[0m\n\u001b[1;32m     57\u001b[0m   \u001b[0mlocal_output\u001b[0m \u001b[0;34m=\u001b[0m \u001b[0mnp\u001b[0m\u001b[0;34m.\u001b[0m\u001b[0mzeros\u001b[0m\u001b[0;34m(\u001b[0m\u001b[0;36m4\u001b[0m\u001b[0;34m)\u001b[0m \u001b[0;34m+\u001b[0m \u001b[0;34m(\u001b[0m\u001b[0;36m1j\u001b[0m \u001b[0;34m*\u001b[0m \u001b[0mnp\u001b[0m\u001b[0;34m.\u001b[0m\u001b[0mzeros\u001b[0m\u001b[0;34m(\u001b[0m\u001b[0;36m4\u001b[0m\u001b[0;34m)\u001b[0m\u001b[0;34m)\u001b[0m\u001b[0;34m\u001b[0m\u001b[0;34m\u001b[0m\u001b[0m\n\u001b[1;32m     58\u001b[0m   \u001b[0;32mfor\u001b[0m \u001b[0mi\u001b[0m \u001b[0;32min\u001b[0m \u001b[0mrange\u001b[0m\u001b[0;34m(\u001b[0m\u001b[0;36m4\u001b[0m\u001b[0;34m)\u001b[0m\u001b[0;34m:\u001b[0m\u001b[0;34m\u001b[0m\u001b[0;34m\u001b[0m\u001b[0m\n\u001b[0;32m---> 59\u001b[0;31m     \u001b[0mlocal_output\u001b[0m\u001b[0;34m[\u001b[0m\u001b[0mi\u001b[0m\u001b[0;34m]\u001b[0m \u001b[0;34m=\u001b[0m \u001b[0mprint_vector\u001b[0m\u001b[0;34m(\u001b[0m\u001b[0mreg_id\u001b[0m\u001b[0;34m)\u001b[0m\u001b[0;34m[\u001b[0m\u001b[0mi\u001b[0m\u001b[0;34m]\u001b[0m\u001b[0;34m[\u001b[0m\u001b[0;34m'complex_value'\u001b[0m\u001b[0;34m]\u001b[0m\u001b[0;34m[\u001b[0m\u001b[0;34m're'\u001b[0m\u001b[0;34m]\u001b[0m \u001b[0;34m+\u001b[0m \u001b[0;34m(\u001b[0m\u001b[0;36m1j\u001b[0m \u001b[0;34m*\u001b[0m \u001b[0mprint_vector\u001b[0m\u001b[0;34m(\u001b[0m\u001b[0mreg_id\u001b[0m\u001b[0;34m)\u001b[0m\u001b[0;34m[\u001b[0m\u001b[0mi\u001b[0m\u001b[0;34m]\u001b[0m\u001b[0;34m[\u001b[0m\u001b[0;34m'complex_value'\u001b[0m\u001b[0;34m]\u001b[0m\u001b[0;34m[\u001b[0m\u001b[0;34m'im'\u001b[0m\u001b[0;34m]\u001b[0m\u001b[0;34m)\u001b[0m\u001b[0;34m\u001b[0m\u001b[0;34m\u001b[0m\u001b[0m\n\u001b[0m\u001b[1;32m     60\u001b[0m \u001b[0;34m\u001b[0m\u001b[0m\n\u001b[1;32m     61\u001b[0m   \u001b[0;31m# Display fidleity of output\u001b[0m\u001b[0;34m\u001b[0m\u001b[0;34m\u001b[0m\u001b[0;34m\u001b[0m\u001b[0m\n",
            "\u001b[0;32m<ipython-input-2-f2c6d7190184>\u001b[0m in \u001b[0;36mprint_vector\u001b[0;34m(register_id)\u001b[0m\n\u001b[1;32m     64\u001b[0m   }\n\u001b[1;32m     65\u001b[0m   \u001b[0mresult\u001b[0m \u001b[0;34m=\u001b[0m \u001b[0mrequests\u001b[0m\u001b[0;34m.\u001b[0m\u001b[0mpost\u001b[0m\u001b[0;34m(\u001b[0m\u001b[0mreq_str\u001b[0m\u001b[0;34m,\u001b[0m \u001b[0mjson\u001b[0m\u001b[0;34m=\u001b[0m\u001b[0mdata\u001b[0m\u001b[0;34m)\u001b[0m\u001b[0;34m\u001b[0m\u001b[0;34m\u001b[0m\u001b[0m\n\u001b[0;32m---> 66\u001b[0;31m   \u001b[0mjson_obj\u001b[0m \u001b[0;34m=\u001b[0m \u001b[0mjson\u001b[0m\u001b[0;34m.\u001b[0m\u001b[0mloads\u001b[0m\u001b[0;34m(\u001b[0m\u001b[0mresult\u001b[0m\u001b[0;34m.\u001b[0m\u001b[0mcontent\u001b[0m\u001b[0;34m)\u001b[0m\u001b[0;34m\u001b[0m\u001b[0;34m\u001b[0m\u001b[0m\n\u001b[0m\u001b[1;32m     67\u001b[0m   \u001b[0;32mreturn\u001b[0m \u001b[0mjson_obj\u001b[0m\u001b[0;34m[\u001b[0m\u001b[0;34m'result'\u001b[0m\u001b[0;34m]\u001b[0m\u001b[0;34m\u001b[0m\u001b[0;34m\u001b[0m\u001b[0m\n",
            "\u001b[0;32m/usr/lib/python3.7/json/__init__.py\u001b[0m in \u001b[0;36mloads\u001b[0;34m(s, encoding, cls, object_hook, parse_float, parse_int, parse_constant, object_pairs_hook, **kw)\u001b[0m\n\u001b[1;32m    346\u001b[0m             \u001b[0mparse_int\u001b[0m \u001b[0;32mis\u001b[0m \u001b[0;32mNone\u001b[0m \u001b[0;32mand\u001b[0m \u001b[0mparse_float\u001b[0m \u001b[0;32mis\u001b[0m \u001b[0;32mNone\u001b[0m \u001b[0;32mand\u001b[0m\u001b[0;34m\u001b[0m\u001b[0;34m\u001b[0m\u001b[0m\n\u001b[1;32m    347\u001b[0m             parse_constant is None and object_pairs_hook is None and not kw):\n\u001b[0;32m--> 348\u001b[0;31m         \u001b[0;32mreturn\u001b[0m \u001b[0m_default_decoder\u001b[0m\u001b[0;34m.\u001b[0m\u001b[0mdecode\u001b[0m\u001b[0;34m(\u001b[0m\u001b[0ms\u001b[0m\u001b[0;34m)\u001b[0m\u001b[0;34m\u001b[0m\u001b[0;34m\u001b[0m\u001b[0m\n\u001b[0m\u001b[1;32m    349\u001b[0m     \u001b[0;32mif\u001b[0m \u001b[0mcls\u001b[0m \u001b[0;32mis\u001b[0m \u001b[0;32mNone\u001b[0m\u001b[0;34m:\u001b[0m\u001b[0;34m\u001b[0m\u001b[0;34m\u001b[0m\u001b[0m\n\u001b[1;32m    350\u001b[0m         \u001b[0mcls\u001b[0m \u001b[0;34m=\u001b[0m \u001b[0mJSONDecoder\u001b[0m\u001b[0;34m\u001b[0m\u001b[0;34m\u001b[0m\u001b[0m\n",
            "\u001b[0;32m/usr/lib/python3.7/json/decoder.py\u001b[0m in \u001b[0;36mdecode\u001b[0;34m(self, s, _w)\u001b[0m\n\u001b[1;32m    335\u001b[0m \u001b[0;34m\u001b[0m\u001b[0m\n\u001b[1;32m    336\u001b[0m         \"\"\"\n\u001b[0;32m--> 337\u001b[0;31m         \u001b[0mobj\u001b[0m\u001b[0;34m,\u001b[0m \u001b[0mend\u001b[0m \u001b[0;34m=\u001b[0m \u001b[0mself\u001b[0m\u001b[0;34m.\u001b[0m\u001b[0mraw_decode\u001b[0m\u001b[0;34m(\u001b[0m\u001b[0ms\u001b[0m\u001b[0;34m,\u001b[0m \u001b[0midx\u001b[0m\u001b[0;34m=\u001b[0m\u001b[0m_w\u001b[0m\u001b[0;34m(\u001b[0m\u001b[0ms\u001b[0m\u001b[0;34m,\u001b[0m \u001b[0;36m0\u001b[0m\u001b[0;34m)\u001b[0m\u001b[0;34m.\u001b[0m\u001b[0mend\u001b[0m\u001b[0;34m(\u001b[0m\u001b[0;34m)\u001b[0m\u001b[0;34m)\u001b[0m\u001b[0;34m\u001b[0m\u001b[0;34m\u001b[0m\u001b[0m\n\u001b[0m\u001b[1;32m    338\u001b[0m         \u001b[0mend\u001b[0m \u001b[0;34m=\u001b[0m \u001b[0m_w\u001b[0m\u001b[0;34m(\u001b[0m\u001b[0ms\u001b[0m\u001b[0;34m,\u001b[0m \u001b[0mend\u001b[0m\u001b[0;34m)\u001b[0m\u001b[0;34m.\u001b[0m\u001b[0mend\u001b[0m\u001b[0;34m(\u001b[0m\u001b[0;34m)\u001b[0m\u001b[0;34m\u001b[0m\u001b[0;34m\u001b[0m\u001b[0m\n\u001b[1;32m    339\u001b[0m         \u001b[0;32mif\u001b[0m \u001b[0mend\u001b[0m \u001b[0;34m!=\u001b[0m \u001b[0mlen\u001b[0m\u001b[0;34m(\u001b[0m\u001b[0ms\u001b[0m\u001b[0;34m)\u001b[0m\u001b[0;34m:\u001b[0m\u001b[0;34m\u001b[0m\u001b[0;34m\u001b[0m\u001b[0m\n",
            "\u001b[0;32m/usr/lib/python3.7/json/decoder.py\u001b[0m in \u001b[0;36mraw_decode\u001b[0;34m(self, s, idx)\u001b[0m\n\u001b[1;32m    353\u001b[0m             \u001b[0mobj\u001b[0m\u001b[0;34m,\u001b[0m \u001b[0mend\u001b[0m \u001b[0;34m=\u001b[0m \u001b[0mself\u001b[0m\u001b[0;34m.\u001b[0m\u001b[0mscan_once\u001b[0m\u001b[0;34m(\u001b[0m\u001b[0ms\u001b[0m\u001b[0;34m,\u001b[0m \u001b[0midx\u001b[0m\u001b[0;34m)\u001b[0m\u001b[0;34m\u001b[0m\u001b[0;34m\u001b[0m\u001b[0m\n\u001b[1;32m    354\u001b[0m         \u001b[0;32mexcept\u001b[0m \u001b[0mStopIteration\u001b[0m \u001b[0;32mas\u001b[0m \u001b[0merr\u001b[0m\u001b[0;34m:\u001b[0m\u001b[0;34m\u001b[0m\u001b[0;34m\u001b[0m\u001b[0m\n\u001b[0;32m--> 355\u001b[0;31m             \u001b[0;32mraise\u001b[0m \u001b[0mJSONDecodeError\u001b[0m\u001b[0;34m(\u001b[0m\u001b[0;34m\"Expecting value\"\u001b[0m\u001b[0;34m,\u001b[0m \u001b[0ms\u001b[0m\u001b[0;34m,\u001b[0m \u001b[0merr\u001b[0m\u001b[0;34m.\u001b[0m\u001b[0mvalue\u001b[0m\u001b[0;34m)\u001b[0m \u001b[0;32mfrom\u001b[0m \u001b[0;32mNone\u001b[0m\u001b[0;34m\u001b[0m\u001b[0;34m\u001b[0m\u001b[0m\n\u001b[0m\u001b[1;32m    356\u001b[0m         \u001b[0;32mreturn\u001b[0m \u001b[0mobj\u001b[0m\u001b[0;34m,\u001b[0m \u001b[0mend\u001b[0m\u001b[0;34m\u001b[0m\u001b[0;34m\u001b[0m\u001b[0m\n",
            "\u001b[0;31mJSONDecodeError\u001b[0m: Expecting value: line 1 column 1 (char 0)"
          ]
        }
      ]
    },
    {
      "cell_type": "markdown",
      "metadata": {
        "id": "ZDTsmiJlujij"
      },
      "source": [
        "As the result is 1 always, we can safely assume that our circuit is indeed a non-local $CNOT$ protocol."
      ]
    }
  ]
}